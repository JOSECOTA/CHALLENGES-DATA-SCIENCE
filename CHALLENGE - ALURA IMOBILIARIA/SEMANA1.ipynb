{
  "nbformat": 4,
  "nbformat_minor": 0,
  "metadata": {
    "colab": {
      "provenance": [],
      "authorship_tag": "ABX9TyNFW7iIjzTbQYGSpvWgnXdE",
      "include_colab_link": true
    },
    "kernelspec": {
      "name": "python3",
      "display_name": "Python 3"
    },
    "language_info": {
      "name": "python"
    }
  },
  "cells": [
    {
      "cell_type": "markdown",
      "metadata": {
        "id": "view-in-github",
        "colab_type": "text"
      },
      "source": [
        "<a href=\"https://colab.research.google.com/github/JOSECOTA/CHALLENGES-DATA-SCIENCE/blob/main/CHALLENGE%20-%20ALURA%20IMOBILIARIA/SEMANA1.ipynb\" target=\"_parent\"><img src=\"https://colab.research.google.com/assets/colab-badge.svg\" alt=\"Open In Colab\"/></a>"
      ]
    },
    {
      "cell_type": "markdown",
      "source": [
        "# <center> CHALLENGE - ALURA </center>\n",
        "# <center> SEMANA 1 </center>"
      ],
      "metadata": {
        "id": "ZYs2XTuz38-E"
      }
    },
    {
      "cell_type": "markdown",
      "source": [
        "## Introdução"
      ],
      "metadata": {
        "id": "mPEAXeG5W7Cg"
      }
    },
    {
      "cell_type": "markdown",
      "source": [
        "A imobiliária InsightPlaces, situada na cidade do Rio de Janeiro, está enfrentando dificuldades para alugar e vender imóveis. Em uma pesquisa de como empresas semelhantes operam no mercado, a InsightPlaces percebeu que esse problema pode estar relacionado aos valores dos imóveis e às recomendações que faz.\n",
        "\n",
        "Dentro desse contexto, como podemos definir de forma eficiente os preços dos imóveis lidando com grande volume de dados? É importante recomendar imóveis utilizando outro critério? O que precisa ser feito?\n",
        "\n",
        "Você faz parte do time de Ciência de Dados e Big Data da InsightPlaces e ficou responsável por auxiliar no processo de análise de dados dos imóveis localizados em alguns bairros da cidade do Rio de Janeiro.\n",
        "\n",
        "Esse projeto tem algumas etapas como: ler e fazer o tratamento do histórico dos preços de imóveis no Rio de Janeiro, construir um modelo de regressão para precificar imóveis e criar um recomendador de imóveis. Para cada uma dessas etapas vamos utilizar a ferramenta PySpark que oferece uma melhor performance ao trabalharmos com grandes volumes de dados."
      ],
      "metadata": {
        "id": "2-cyvcOnWy34"
      }
    },
    {
      "cell_type": "markdown",
      "source": [
        "Criando sessão spark"
      ],
      "metadata": {
        "id": "5MR8fPMETj0H"
      }
    },
    {
      "cell_type": "code",
      "source": [
        "!apt-get install openjdk-8-jdk-headless -qq > /dev/null\n",
        "!wget -q https://archive.apache.org/dist/spark/spark-3.1.2/spark-3.1.2-bin-hadoop2.7.tgz\n",
        "!tar xf spark-3.1.2-bin-hadoop2.7.tgz\n",
        "!pip install -q findspark\n"
      ],
      "metadata": {
        "id": "69LNQknl4Af6"
      },
      "execution_count": 1,
      "outputs": []
    },
    {
      "cell_type": "code",
      "source": [
        "import os\n",
        "\n",
        "os.environ[\"JAVA_HOME\"] = \"/usr/lib/jvm/java-8-openjdk-amd64\"\n",
        "os.environ[\"SPARK_HOME\"] = \"/content/spark-3.1.2-bin-hadoop2.7\""
      ],
      "metadata": {
        "id": "Jhlg_S2VSn3n"
      },
      "execution_count": 2,
      "outputs": []
    },
    {
      "cell_type": "code",
      "source": [
        "import findspark\n",
        "findspark.init()"
      ],
      "metadata": {
        "id": "_PH6UUgjTXBy"
      },
      "execution_count": 3,
      "outputs": []
    },
    {
      "cell_type": "code",
      "source": [
        "from pyspark.sql import SparkSession\n",
        "\n",
        "spark = SparkSession.builder \\\n",
        "    .master('local[*]') \\\n",
        "    .appName('Challenge-Imóveis') \\\n",
        "    .getOrCreate()"
      ],
      "metadata": {
        "id": "pzhDNvzzTYRZ"
      },
      "execution_count": 4,
      "outputs": []
    },
    {
      "cell_type": "code",
      "source": [
        "from pyspark.sql import functions as f"
      ],
      "metadata": {
        "id": "uR8Dxqc-avxv"
      },
      "execution_count": 5,
      "outputs": []
    },
    {
      "cell_type": "markdown",
      "source": [
        "Montando o drive e carregando o dataset"
      ],
      "metadata": {
        "id": "z3AutHYTTmbu"
      }
    },
    {
      "cell_type": "code",
      "source": [
        "from google.colab import drive\n",
        "drive.mount('/content/drive')"
      ],
      "metadata": {
        "colab": {
          "base_uri": "https://localhost:8080/"
        },
        "id": "HtFuxPjLTf5F",
        "outputId": "33d9b1ed-f8e5-4e87-f7c9-48cba3886e1d"
      },
      "execution_count": 6,
      "outputs": [
        {
          "output_type": "stream",
          "name": "stdout",
          "text": [
            "Mounted at /content/drive\n"
          ]
        }
      ]
    },
    {
      "cell_type": "code",
      "source": [
        "path = '/content/drive/MyDrive/Challenge-Imoveis/dataset_bruto.json'"
      ],
      "metadata": {
        "id": "_uJcNJ5LTvWu"
      },
      "execution_count": 7,
      "outputs": []
    },
    {
      "cell_type": "code",
      "source": [
        "dados_brutos = spark.read.json(path, multiLine=True)"
      ],
      "metadata": {
        "id": "fMTfJ0o5T97Y"
      },
      "execution_count": 8,
      "outputs": []
    },
    {
      "cell_type": "markdown",
      "source": [
        "## Explorar a base de dados utilizando recursos do PySpark"
      ],
      "metadata": {
        "id": "97Mx93wbVqwH"
      }
    },
    {
      "cell_type": "code",
      "source": [
        "dados_brutos.show(5, truncate=False)"
      ],
      "metadata": {
        "colab": {
          "base_uri": "https://localhost:8080/"
        },
        "id": "RnuJM5qsWJmQ",
        "outputId": "83848dbd-2980-4ed5-dcde-17d41d6b1cb9"
      },
      "execution_count": 9,
      "outputs": [
        {
          "output_type": "stream",
          "name": "stdout",
          "text": [
            "+----------------------------------------------------------------------------------------------------------------------------------------------------------------------------------------------------------------------------------------------------------------------------------------------------+--------------------------------------------------------------------------------------------------------------------------------------------------------------------------------------------------------------------------------------------------------------------------------------------------------------------------------------------------------------------------------------------------------------------------------------------------------------------------------------------------------------------------------------------------------------------------------------------------------+------------------------------------------------+\n",
            "|anuncio                                                                                                                                                                                                                                                                                             |imagens                                                                                                                                                                                                                                                                                                                                                                                                                                                                                                                                                                                                 |usuario                                         |\n",
            "+----------------------------------------------------------------------------------------------------------------------------------------------------------------------------------------------------------------------------------------------------------------------------------------------------+--------------------------------------------------------------------------------------------------------------------------------------------------------------------------------------------------------------------------------------------------------------------------------------------------------------------------------------------------------------------------------------------------------------------------------------------------------------------------------------------------------------------------------------------------------------------------------------------------------+------------------------------------------------+\n",
            "|{0, [], [16], [0], [], {Centro, 20061003, Rio de Janeiro, Rio de Janeiro, -22.906082, -43.18671, BR, Rua Buenos Aires, Zona Central}, 47d553e0-79f2-4a46-9390-5a3c962740c2, [0], [0], Usado, Outros, Comercial, [1], [{260, 107, Venda, 10000}]}                                                    |[{39d6282a-71f3-47bc-94aa-909351ecd881, https://api.images.insightplaces.com.br/{type}/{width}/{height}/1b08098d-f2dc-439c-b604-a4e50d12774b.jpg}]                                                                                                                                                                                                                                                                                                                                                                                                                                                      |{9d44563d-3405-4e84-9381-35b7cf40a9a4, Frank}   |\n",
            "|{0, [], [14], [0], [], {Centro, 20051040, Rio de Janeiro, Rio de Janeiro, -22.902536, -43.18434, BR, Avenida Passos, Zona Central}, b6ffbae1-17f6-4870-9950-e998ac1c8d6a, [0], [], Usado, Outros, Comercial, [0], [{260, 107, Venda, 10000}]}                                                       |[{23d2b3ab-45b0-47f2-a27f-ffbe066c2c38, https://api.images.insightplaces.com.br/{type}/{width}/{height}/7a65b929-fe46-4a60-ae31-81faf2edb3c6.jpg}, {1b5f71f8-1aec-4b82-8d4c-67540d204a59, https://api.images.insightplaces.com.br/{type}/{width}/{height}/82e92d72-002a-4d3b-8063-16d4d65474b3.jpg}, {9bb11688-7dc9-48b9-bc1d-6a7a2dbcd553, https://api.images.insightplaces.com.br/{type}/{width}/{height}/23be0c2c-4c8f-4718-8126-6f160bb3efcc.jpg}, {1aaf6095-70bc-4f1f-87a4-fe3534a1bd2a, https://api.images.insightplaces.com.br/{type}/{width}/{height}/0ae382f4-b1ac-4ad9-b6cf-d9b4d7d01908.jpg}]|{36245be7-70fe-40cd-84d4-70a57dc8f976, Caroline}|\n",
            "|{0, [1026], [1026], [0], [], {Maria da Graça, 20785360, Rio de Janeiro, Rio de Janeiro, -22.885516, -43.269083, BR, Rua Luís de Brito, Zona Norte}, 1fb030a5-9e3e-4a1d-93cd-cd2d8a215e11, [0], [], Usado, Outros, Comercial, [0], [{null, 1613, Venda, 10000}]}                                     |[{1da65baa-368b-490f-bef7-1834b9a428c1, https://api.images.insightplaces.com.br/{type}/{width}/{height}/b06fe423-6f18-43bb-b0e3-a569158885d2.jpg}]                                                                                                                                                                                                                                                                                                                                                                                                                                                      |{9dc415d8-1397-4d8d-8425-b8310fad309d, Oliver}  |\n",
            "|{0, [120], [120], [0], [Portão eletrônico, Condomínio fechado], {Campo Grande, 23095071, Rio de Janeiro, Rio de Janeiro, -22.885028, -43.561668, BR, Estrada Guandu do Sape, Zona Oeste}, ac6cb348-69d6-45af-9589-dc34099370d8, [0], [], Usado, Outros, Residencial, [], [{80, null, Venda, 10000}]}|[{79b542c6-49b4-4f06-80b5-ef4fcdf98f76, https://api.images.insightplaces.com.br/{type}/{width}/{height}/b9688b1a-e6e8-4027-9368-d8298bc5ac40.jpg}]                                                                                                                                                                                                                                                                                                                                                                                                                                                      |{9911a2df-f299-4a73-a384-281417abaf69, Matthew} |\n",
            "|{0, [3], [3], [0], [], {São Cristóvão, 20931670, Rio de Janeiro, Rio de Janeiro, -22.885912, -43.219296, BR, Rua Monsenhor Manuel Gomes, Zona Norte}, e032b908-ef42-4d4a-8125-eba4792bacbe, [0], [], Usado, Outros, Residencial, [], [{0, 0, Venda, 5000}]}                                         |[{e2bc497b-6510-4731-8942-97b3d3cdab5e, https://api.images.insightplaces.com.br/{type}/{width}/{height}/bd7e2c54-8d10-4148-806d-0d656ff80fc2.jpg}]                                                                                                                                                                                                                                                                                                                                                                                                                                                      |{240a7aab-12e5-4069-9a2c-9dca4c4f9c68, Jude}    |\n",
            "+----------------------------------------------------------------------------------------------------------------------------------------------------------------------------------------------------------------------------------------------------------------------------------------------------+--------------------------------------------------------------------------------------------------------------------------------------------------------------------------------------------------------------------------------------------------------------------------------------------------------------------------------------------------------------------------------------------------------------------------------------------------------------------------------------------------------------------------------------------------------------------------------------------------------+------------------------------------------------+\n",
            "only showing top 5 rows\n",
            "\n"
          ]
        }
      ]
    },
    {
      "cell_type": "code",
      "source": [
        "dados_brutos.count()"
      ],
      "metadata": {
        "colab": {
          "base_uri": "https://localhost:8080/"
        },
        "id": "MPQCFmZLYfVB",
        "outputId": "c1481d7c-e31a-4d7b-90d8-bfe315cb7e16"
      },
      "execution_count": 10,
      "outputs": [
        {
          "output_type": "execute_result",
          "data": {
            "text/plain": [
              "89083"
            ]
          },
          "metadata": {},
          "execution_count": 10
        }
      ]
    },
    {
      "cell_type": "code",
      "source": [
        "dados_brutos.printSchema()"
      ],
      "metadata": {
        "colab": {
          "base_uri": "https://localhost:8080/"
        },
        "id": "xL21HKOxUx-l",
        "outputId": "a84e5e73-343a-4085-8b08-da03361f3013"
      },
      "execution_count": 11,
      "outputs": [
        {
          "output_type": "stream",
          "name": "stdout",
          "text": [
            "root\n",
            " |-- anuncio: struct (nullable = true)\n",
            " |    |-- andar: long (nullable = true)\n",
            " |    |-- area_total: array (nullable = true)\n",
            " |    |    |-- element: string (containsNull = true)\n",
            " |    |-- area_util: array (nullable = true)\n",
            " |    |    |-- element: string (containsNull = true)\n",
            " |    |-- banheiros: array (nullable = true)\n",
            " |    |    |-- element: long (containsNull = true)\n",
            " |    |-- caracteristicas: array (nullable = true)\n",
            " |    |    |-- element: string (containsNull = true)\n",
            " |    |-- endereco: struct (nullable = true)\n",
            " |    |    |-- bairro: string (nullable = true)\n",
            " |    |    |-- cep: string (nullable = true)\n",
            " |    |    |-- cidade: string (nullable = true)\n",
            " |    |    |-- estado: string (nullable = true)\n",
            " |    |    |-- latitude: double (nullable = true)\n",
            " |    |    |-- longitude: double (nullable = true)\n",
            " |    |    |-- pais: string (nullable = true)\n",
            " |    |    |-- rua: string (nullable = true)\n",
            " |    |    |-- zona: string (nullable = true)\n",
            " |    |-- id: string (nullable = true)\n",
            " |    |-- quartos: array (nullable = true)\n",
            " |    |    |-- element: long (containsNull = true)\n",
            " |    |-- suites: array (nullable = true)\n",
            " |    |    |-- element: long (containsNull = true)\n",
            " |    |-- tipo_anuncio: string (nullable = true)\n",
            " |    |-- tipo_unidade: string (nullable = true)\n",
            " |    |-- tipo_uso: string (nullable = true)\n",
            " |    |-- vaga: array (nullable = true)\n",
            " |    |    |-- element: long (containsNull = true)\n",
            " |    |-- valores: array (nullable = true)\n",
            " |    |    |-- element: struct (containsNull = true)\n",
            " |    |    |    |-- condominio: string (nullable = true)\n",
            " |    |    |    |-- iptu: string (nullable = true)\n",
            " |    |    |    |-- tipo: string (nullable = true)\n",
            " |    |    |    |-- valor: string (nullable = true)\n",
            " |-- imagens: array (nullable = true)\n",
            " |    |-- element: struct (containsNull = true)\n",
            " |    |    |-- id: string (nullable = true)\n",
            " |    |    |-- url: string (nullable = true)\n",
            " |-- usuario: struct (nullable = true)\n",
            " |    |-- id: string (nullable = true)\n",
            " |    |-- nome: string (nullable = true)\n",
            "\n"
          ]
        }
      ]
    },
    {
      "cell_type": "markdown",
      "source": [
        "## Transformar cada campo da coluna \"anuncio\" em uma coluna separada"
      ],
      "metadata": {
        "id": "i2Qf9avDchAg"
      }
    },
    {
      "cell_type": "markdown",
      "source": [
        "Para nossa análise, apenas as informações do campo \"anuncio\" serão relevantes. Por isso, vamos focar em analisar as colunas desse campo."
      ],
      "metadata": {
        "id": "N5ydKGD3VfIJ"
      }
    },
    {
      "cell_type": "code",
      "source": [
        "anuncios = dados_brutos.select('anuncio')"
      ],
      "metadata": {
        "id": "3aF2TkzcVwu-"
      },
      "execution_count": 12,
      "outputs": []
    },
    {
      "cell_type": "code",
      "source": [
        "anuncios.show(5, truncate=False)"
      ],
      "metadata": {
        "colab": {
          "base_uri": "https://localhost:8080/"
        },
        "id": "te5-isAKXKUe",
        "outputId": "bc8335e6-df03-42dd-b647-6e5d8b7a9ab1"
      },
      "execution_count": 13,
      "outputs": [
        {
          "output_type": "stream",
          "name": "stdout",
          "text": [
            "+----------------------------------------------------------------------------------------------------------------------------------------------------------------------------------------------------------------------------------------------------------------------------------------------------+\n",
            "|anuncio                                                                                                                                                                                                                                                                                             |\n",
            "+----------------------------------------------------------------------------------------------------------------------------------------------------------------------------------------------------------------------------------------------------------------------------------------------------+\n",
            "|{0, [], [16], [0], [], {Centro, 20061003, Rio de Janeiro, Rio de Janeiro, -22.906082, -43.18671, BR, Rua Buenos Aires, Zona Central}, 47d553e0-79f2-4a46-9390-5a3c962740c2, [0], [0], Usado, Outros, Comercial, [1], [{260, 107, Venda, 10000}]}                                                    |\n",
            "|{0, [], [14], [0], [], {Centro, 20051040, Rio de Janeiro, Rio de Janeiro, -22.902536, -43.18434, BR, Avenida Passos, Zona Central}, b6ffbae1-17f6-4870-9950-e998ac1c8d6a, [0], [], Usado, Outros, Comercial, [0], [{260, 107, Venda, 10000}]}                                                       |\n",
            "|{0, [1026], [1026], [0], [], {Maria da Graça, 20785360, Rio de Janeiro, Rio de Janeiro, -22.885516, -43.269083, BR, Rua Luís de Brito, Zona Norte}, 1fb030a5-9e3e-4a1d-93cd-cd2d8a215e11, [0], [], Usado, Outros, Comercial, [0], [{null, 1613, Venda, 10000}]}                                     |\n",
            "|{0, [120], [120], [0], [Portão eletrônico, Condomínio fechado], {Campo Grande, 23095071, Rio de Janeiro, Rio de Janeiro, -22.885028, -43.561668, BR, Estrada Guandu do Sape, Zona Oeste}, ac6cb348-69d6-45af-9589-dc34099370d8, [0], [], Usado, Outros, Residencial, [], [{80, null, Venda, 10000}]}|\n",
            "|{0, [3], [3], [0], [], {São Cristóvão, 20931670, Rio de Janeiro, Rio de Janeiro, -22.885912, -43.219296, BR, Rua Monsenhor Manuel Gomes, Zona Norte}, e032b908-ef42-4d4a-8125-eba4792bacbe, [0], [], Usado, Outros, Residencial, [], [{0, 0, Venda, 5000}]}                                         |\n",
            "+----------------------------------------------------------------------------------------------------------------------------------------------------------------------------------------------------------------------------------------------------------------------------------------------------+\n",
            "only showing top 5 rows\n",
            "\n"
          ]
        }
      ]
    },
    {
      "cell_type": "code",
      "source": [
        "anuncios.printSchema()"
      ],
      "metadata": {
        "colab": {
          "base_uri": "https://localhost:8080/"
        },
        "id": "l6_BKb8_YBvF",
        "outputId": "6cdc7604-a228-44a4-da3b-2f60827e2abf"
      },
      "execution_count": 14,
      "outputs": [
        {
          "output_type": "stream",
          "name": "stdout",
          "text": [
            "root\n",
            " |-- anuncio: struct (nullable = true)\n",
            " |    |-- andar: long (nullable = true)\n",
            " |    |-- area_total: array (nullable = true)\n",
            " |    |    |-- element: string (containsNull = true)\n",
            " |    |-- area_util: array (nullable = true)\n",
            " |    |    |-- element: string (containsNull = true)\n",
            " |    |-- banheiros: array (nullable = true)\n",
            " |    |    |-- element: long (containsNull = true)\n",
            " |    |-- caracteristicas: array (nullable = true)\n",
            " |    |    |-- element: string (containsNull = true)\n",
            " |    |-- endereco: struct (nullable = true)\n",
            " |    |    |-- bairro: string (nullable = true)\n",
            " |    |    |-- cep: string (nullable = true)\n",
            " |    |    |-- cidade: string (nullable = true)\n",
            " |    |    |-- estado: string (nullable = true)\n",
            " |    |    |-- latitude: double (nullable = true)\n",
            " |    |    |-- longitude: double (nullable = true)\n",
            " |    |    |-- pais: string (nullable = true)\n",
            " |    |    |-- rua: string (nullable = true)\n",
            " |    |    |-- zona: string (nullable = true)\n",
            " |    |-- id: string (nullable = true)\n",
            " |    |-- quartos: array (nullable = true)\n",
            " |    |    |-- element: long (containsNull = true)\n",
            " |    |-- suites: array (nullable = true)\n",
            " |    |    |-- element: long (containsNull = true)\n",
            " |    |-- tipo_anuncio: string (nullable = true)\n",
            " |    |-- tipo_unidade: string (nullable = true)\n",
            " |    |-- tipo_uso: string (nullable = true)\n",
            " |    |-- vaga: array (nullable = true)\n",
            " |    |    |-- element: long (containsNull = true)\n",
            " |    |-- valores: array (nullable = true)\n",
            " |    |    |-- element: struct (containsNull = true)\n",
            " |    |    |    |-- condominio: string (nullable = true)\n",
            " |    |    |    |-- iptu: string (nullable = true)\n",
            " |    |    |    |-- tipo: string (nullable = true)\n",
            " |    |    |    |-- valor: string (nullable = true)\n",
            "\n"
          ]
        }
      ]
    },
    {
      "cell_type": "code",
      "source": [
        "anuncios = anuncios.withColumn('andar', anuncios.anuncio.andar)\n",
        "anuncios = anuncios.withColumn('area_total', anuncios.anuncio.area_total)\n",
        "anuncios = anuncios.withColumn('area_util', anuncios.anuncio.area_util)\n",
        "anuncios = anuncios.withColumn('banheiros', anuncios.anuncio.banheiros)\n",
        "anuncios = anuncios.withColumn('caracteristicas', anuncios.anuncio.caracteristicas)\n",
        "anuncios = anuncios.withColumn('endereco', anuncios.anuncio.endereco)\n",
        "anuncios = anuncios.withColumn('id', anuncios.anuncio.id)\n",
        "anuncios = anuncios.withColumn('quartos', anuncios.anuncio.quartos)\n",
        "anuncios = anuncios.withColumn('suites', anuncios.anuncio.suites)\n",
        "anuncios = anuncios.withColumn('tipo_anuncio', anuncios.anuncio.tipo_anuncio)\n",
        "anuncios = anuncios.withColumn('tipo_unidade', anuncios.anuncio.tipo_unidade)\n",
        "anuncios = anuncios.withColumn('tipo_uso', anuncios.anuncio.tipo_uso)\n",
        "anuncios = anuncios.withColumn('vaga', anuncios.anuncio.vaga)\n",
        "anuncios = anuncios.withColumn('valores', anuncios.anuncio.valores)"
      ],
      "metadata": {
        "id": "JREheBSGZyeP"
      },
      "execution_count": 15,
      "outputs": []
    },
    {
      "cell_type": "code",
      "source": [
        "anuncios = anuncios.drop('anuncio')"
      ],
      "metadata": {
        "id": "9yHDRJWSU2Ts"
      },
      "execution_count": 16,
      "outputs": []
    },
    {
      "cell_type": "code",
      "source": [
        "anuncios.show(5, truncate=False)"
      ],
      "metadata": {
        "colab": {
          "base_uri": "https://localhost:8080/"
        },
        "id": "HOA_eq0wvPvT",
        "outputId": "12560940-77e0-4a91-b02d-607e0d2597c8"
      },
      "execution_count": 17,
      "outputs": [
        {
          "output_type": "stream",
          "name": "stdout",
          "text": [
            "+-----+----------+---------+---------+---------------------------------------+-----------------------------------------------------------------------------------------------------------------------------+------------------------------------+-------+------+------------+------------+-----------+----+----------------------------+\n",
            "|andar|area_total|area_util|banheiros|caracteristicas                        |endereco                                                                                                                     |id                                  |quartos|suites|tipo_anuncio|tipo_unidade|tipo_uso   |vaga|valores                     |\n",
            "+-----+----------+---------+---------+---------------------------------------+-----------------------------------------------------------------------------------------------------------------------------+------------------------------------+-------+------+------------+------------+-----------+----+----------------------------+\n",
            "|0    |[]        |[16]     |[0]      |[]                                     |{Centro, 20061003, Rio de Janeiro, Rio de Janeiro, -22.906082, -43.18671, BR, Rua Buenos Aires, Zona Central}                |47d553e0-79f2-4a46-9390-5a3c962740c2|[0]    |[0]   |Usado       |Outros      |Comercial  |[1] |[{260, 107, Venda, 10000}]  |\n",
            "|0    |[]        |[14]     |[0]      |[]                                     |{Centro, 20051040, Rio de Janeiro, Rio de Janeiro, -22.902536, -43.18434, BR, Avenida Passos, Zona Central}                  |b6ffbae1-17f6-4870-9950-e998ac1c8d6a|[0]    |[]    |Usado       |Outros      |Comercial  |[0] |[{260, 107, Venda, 10000}]  |\n",
            "|0    |[1026]    |[1026]   |[0]      |[]                                     |{Maria da Graça, 20785360, Rio de Janeiro, Rio de Janeiro, -22.885516, -43.269083, BR, Rua Luís de Brito, Zona Norte}        |1fb030a5-9e3e-4a1d-93cd-cd2d8a215e11|[0]    |[]    |Usado       |Outros      |Comercial  |[0] |[{null, 1613, Venda, 10000}]|\n",
            "|0    |[120]     |[120]    |[0]      |[Portão eletrônico, Condomínio fechado]|{Campo Grande, 23095071, Rio de Janeiro, Rio de Janeiro, -22.885028, -43.561668, BR, Estrada Guandu do Sape, Zona Oeste}     |ac6cb348-69d6-45af-9589-dc34099370d8|[0]    |[]    |Usado       |Outros      |Residencial|[]  |[{80, null, Venda, 10000}]  |\n",
            "|0    |[3]       |[3]      |[0]      |[]                                     |{São Cristóvão, 20931670, Rio de Janeiro, Rio de Janeiro, -22.885912, -43.219296, BR, Rua Monsenhor Manuel Gomes, Zona Norte}|e032b908-ef42-4d4a-8125-eba4792bacbe|[0]    |[]    |Usado       |Outros      |Residencial|[]  |[{0, 0, Venda, 5000}]       |\n",
            "+-----+----------+---------+---------+---------------------------------------+-----------------------------------------------------------------------------------------------------------------------------+------------------------------------+-------+------+------------+------------+-----------+----+----------------------------+\n",
            "only showing top 5 rows\n",
            "\n"
          ]
        }
      ]
    },
    {
      "cell_type": "code",
      "source": [
        "anuncios.printSchema()"
      ],
      "metadata": {
        "id": "aM5xgy5nefGj",
        "colab": {
          "base_uri": "https://localhost:8080/"
        },
        "outputId": "57e1b8db-6c1b-49e1-c3b7-cda992177052"
      },
      "execution_count": 18,
      "outputs": [
        {
          "output_type": "stream",
          "name": "stdout",
          "text": [
            "root\n",
            " |-- andar: long (nullable = true)\n",
            " |-- area_total: array (nullable = true)\n",
            " |    |-- element: string (containsNull = true)\n",
            " |-- area_util: array (nullable = true)\n",
            " |    |-- element: string (containsNull = true)\n",
            " |-- banheiros: array (nullable = true)\n",
            " |    |-- element: long (containsNull = true)\n",
            " |-- caracteristicas: array (nullable = true)\n",
            " |    |-- element: string (containsNull = true)\n",
            " |-- endereco: struct (nullable = true)\n",
            " |    |-- bairro: string (nullable = true)\n",
            " |    |-- cep: string (nullable = true)\n",
            " |    |-- cidade: string (nullable = true)\n",
            " |    |-- estado: string (nullable = true)\n",
            " |    |-- latitude: double (nullable = true)\n",
            " |    |-- longitude: double (nullable = true)\n",
            " |    |-- pais: string (nullable = true)\n",
            " |    |-- rua: string (nullable = true)\n",
            " |    |-- zona: string (nullable = true)\n",
            " |-- id: string (nullable = true)\n",
            " |-- quartos: array (nullable = true)\n",
            " |    |-- element: long (containsNull = true)\n",
            " |-- suites: array (nullable = true)\n",
            " |    |-- element: long (containsNull = true)\n",
            " |-- tipo_anuncio: string (nullable = true)\n",
            " |-- tipo_unidade: string (nullable = true)\n",
            " |-- tipo_uso: string (nullable = true)\n",
            " |-- vaga: array (nullable = true)\n",
            " |    |-- element: long (containsNull = true)\n",
            " |-- valores: array (nullable = true)\n",
            " |    |-- element: struct (containsNull = true)\n",
            " |    |    |-- condominio: string (nullable = true)\n",
            " |    |    |-- iptu: string (nullable = true)\n",
            " |    |    |-- tipo: string (nullable = true)\n",
            " |    |    |-- valor: string (nullable = true)\n",
            "\n"
          ]
        }
      ]
    },
    {
      "cell_type": "markdown",
      "source": [
        "## Filtrar a base de dados"
      ],
      "metadata": {
        "id": "aHA9UO0ocl8Y"
      }
    },
    {
      "cell_type": "markdown",
      "source": [
        "O time de Data Science solicitou que fizéssemos alguns filtros nas colunas tipo_uso, tipo_unidade e tipo_anuncio da nossa base de dados:\n",
        "\n",
        "\n",
        "\n",
        "*   tipo_uso: Residencial;\n",
        "*   tipo_unidade: Apartamento;\n",
        "*   tipo_anuncio: Usado.\n",
        "\n",
        "Para entender o impacto que esses filtros terão sob a nossa base de dados, crie uma tabela de frequências para cada uma dessas colunas antes de filtrá-las.\n",
        "\n",
        "\n"
      ],
      "metadata": {
        "id": "14CQkCeMWXNo"
      }
    },
    {
      "cell_type": "code",
      "source": [
        "freq_uso = anuncios.groupBy('tipo_uso').count()\n",
        "freq_uso = freq_uso.withColumn('%',((freq_uso['count'])/(anuncios.count()))*100)\n",
        "freq_uso.show()"
      ],
      "metadata": {
        "id": "mhl39yjOg2lU",
        "colab": {
          "base_uri": "https://localhost:8080/"
        },
        "outputId": "453c7545-ea87-421d-c843-92b390730411"
      },
      "execution_count": 19,
      "outputs": [
        {
          "output_type": "stream",
          "name": "stdout",
          "text": [
            "+-----------+-----+-----------------+\n",
            "|   tipo_uso|count|                %|\n",
            "+-----------+-----+-----------------+\n",
            "|  Comercial| 4542|5.098615897533761|\n",
            "|Residencial|84541|94.90138410246624|\n",
            "+-----------+-----+-----------------+\n",
            "\n"
          ]
        }
      ]
    },
    {
      "cell_type": "code",
      "source": [
        "freq_unidade = anuncios.groupBy('tipo_unidade').count()\n",
        "freq_unidade = freq_unidade.withColumn('%',((freq_unidade['count'])/(anuncios.count()))*100)\n",
        "freq_unidade.show()"
      ],
      "metadata": {
        "colab": {
          "base_uri": "https://localhost:8080/"
        },
        "id": "x2DlACSbTjqA",
        "outputId": "697c381b-8b26-4ab6-b38d-3318d67fea45"
      },
      "execution_count": 20,
      "outputs": [
        {
          "output_type": "stream",
          "name": "stdout",
          "text": [
            "+------------+-----+------------------+\n",
            "|tipo_unidade|count|                 %|\n",
            "+------------+-----+------------------+\n",
            "|      Outros|11963|13.429049313561512|\n",
            "| Apartamento|66801| 74.98737132786279|\n",
            "|        Casa|10319| 11.58357935857571|\n",
            "+------------+-----+------------------+\n",
            "\n"
          ]
        }
      ]
    },
    {
      "cell_type": "code",
      "source": [
        "freq_anuncio = anuncios.groupBy('tipo_anuncio').count()\n",
        "freq_anuncio = freq_anuncio.withColumn('%',((freq_anuncio['count'])/(anuncios.count()))*100)\n",
        "freq_anuncio.show()"
      ],
      "metadata": {
        "id": "sD2N6AXrCyhL",
        "colab": {
          "base_uri": "https://localhost:8080/"
        },
        "outputId": "0c028fee-ac12-415b-d42c-66d8b91bbee6"
      },
      "execution_count": 21,
      "outputs": [
        {
          "output_type": "stream",
          "name": "stdout",
          "text": [
            "+------------+-----+-------------------+\n",
            "|tipo_anuncio|count|                  %|\n",
            "+------------+-----+-------------------+\n",
            "|       Usado|88827|  99.71262754958859|\n",
            "|  Lançamento|  256|0.28737245041141407|\n",
            "+------------+-----+-------------------+\n",
            "\n"
          ]
        }
      ]
    },
    {
      "cell_type": "code",
      "source": [
        "anuncios = anuncios.select('*').where('tipo_uso == \"Residencial\"')\n",
        "anuncios = anuncios.select('*').where('tipo_unidade == \"Apartamento\"')\n",
        "anuncios = anuncios.select('*').where('tipo_anuncio == \"Usado\"')"
      ],
      "metadata": {
        "id": "oEk4ySh11DNv"
      },
      "execution_count": 22,
      "outputs": []
    },
    {
      "cell_type": "code",
      "source": [
        "anuncios.count()"
      ],
      "metadata": {
        "colab": {
          "base_uri": "https://localhost:8080/"
        },
        "id": "rOpiI06U1GXA",
        "outputId": "836509ed-49c2-481e-adec-950ee9f210c7"
      },
      "execution_count": 23,
      "outputs": [
        {
          "output_type": "execute_result",
          "data": {
            "text/plain": [
              "66562"
            ]
          },
          "metadata": {},
          "execution_count": 23
        }
      ]
    },
    {
      "cell_type": "markdown",
      "source": [
        "Com os filtros solicitados a base de dados teve uma diminuição de 89083 linhas para 66562."
      ],
      "metadata": {
        "id": "4ncUQb7ZbQ8x"
      }
    },
    {
      "cell_type": "markdown",
      "source": [
        "## Transformar as colunas dos cômodos dos imóveis de listas para inteiros"
      ],
      "metadata": {
        "id": "wMi-PXXacTLB"
      }
    },
    {
      "cell_type": "markdown",
      "source": [
        "Como pessoas engenheiras de dados, nós queremos entregar a base de dados de forma mais estruturada para que o time de ciência de dados possa realizar os tratamentos e criação do modelo de machine learning.\n",
        "\n",
        "Nesse contexto, transforme os dados das colunas \"quartos\", \"suites\", \"banheiros\", \"vaga\", \"area_total\" e \"area_util\" de **listas** para **inteiros**."
      ],
      "metadata": {
        "id": "4B3gidNDb3oZ"
      }
    },
    {
      "cell_type": "code",
      "source": [
        "anuncios.show(5)"
      ],
      "metadata": {
        "colab": {
          "base_uri": "https://localhost:8080/"
        },
        "id": "_0G31X4BbOl1",
        "outputId": "89bd46a2-b33e-4463-8ad0-b38fc8ec0712"
      },
      "execution_count": 24,
      "outputs": [
        {
          "output_type": "stream",
          "name": "stdout",
          "text": [
            "+-----+----------+---------+---------+--------------------+--------------------+--------------------+-------+------+------------+------------+-----------+----+--------------------+\n",
            "|andar|area_total|area_util|banheiros|     caracteristicas|            endereco|                  id|quartos|suites|tipo_anuncio|tipo_unidade|   tipo_uso|vaga|             valores|\n",
            "+-----+----------+---------+---------+--------------------+--------------------+--------------------+-------+------+------------+------------+-----------+----+--------------------+\n",
            "|    3|      [43]|     [43]|      [1]|[Academia, Churra...|{Paciência, 23585...|d2e3a3aa-09b5-45a...|    [2]|    []|       Usado| Apartamento|Residencial| [1]|[{245, null, Vend...|\n",
            "|    2|      [42]|     [42]|      [1]|[Churrasqueira, P...|{Paciência, 23585...|085bab2c-87ad-452...|    [2]|    []|       Usado| Apartamento|Residencial| [1]|[{0, 0, Venda, 15...|\n",
            "|    1|      [41]|     [41]|      [1]|[Portaria 24h, Co...|{Guaratiba, 23036...|18d22cbe-1b86-476...|    [2]|    []|       Usado| Apartamento|Residencial| [1]|[{0, 0, Venda, 20...|\n",
            "|    3|      [43]|     [43]|      [1]|[Churrasqueira, P...|{Cosmos, 23066271...|bed8a354-9317-442...|    [2]|    []|       Usado| Apartamento|Residencial| [0]|[{285, null, Vend...|\n",
            "|    2|      [43]|     [43]|      [1]|[Academia, Churra...|{Guaratiba, 23036...|12a13315-d67f-48f...|    [2]|    []|       Usado| Apartamento|Residencial| [1]|[{245, null, Vend...|\n",
            "+-----+----------+---------+---------+--------------------+--------------------+--------------------+-------+------+------------+------------+-----------+----+--------------------+\n",
            "only showing top 5 rows\n",
            "\n"
          ]
        }
      ]
    },
    {
      "cell_type": "code",
      "source": [
        "from pyspark.sql.types import IntegerType"
      ],
      "metadata": {
        "id": "EnuTf4Zc1TLY"
      },
      "execution_count": 25,
      "outputs": []
    },
    {
      "cell_type": "code",
      "source": [
        "anuncios = anuncios.withColumn('area_total',anuncios.area_total[0])\\\n",
        "                    .withColumn('area_util',anuncios.area_util[0])\\\n",
        "                    .withColumn('banheiros',anuncios.banheiros[0])\\\n",
        "                    .withColumn('quartos',anuncios.quartos[0])\\\n",
        "                    .withColumn('suites',anuncios.suites[0])\\\n",
        "                    .withColumn('vaga',anuncios.vaga[0])"
      ],
      "metadata": {
        "id": "Vkw_g-kuL5vA"
      },
      "execution_count": 26,
      "outputs": []
    },
    {
      "cell_type": "code",
      "source": [
        "anuncios.show()"
      ],
      "metadata": {
        "id": "yTYmklHQI5c2",
        "colab": {
          "base_uri": "https://localhost:8080/"
        },
        "outputId": "bf488912-abb2-4003-d6cb-25b9962fcb6f"
      },
      "execution_count": 27,
      "outputs": [
        {
          "output_type": "stream",
          "name": "stdout",
          "text": [
            "+-----+----------+---------+---------+--------------------+--------------------+--------------------+-------+------+------------+------------+-----------+----+--------------------+\n",
            "|andar|area_total|area_util|banheiros|     caracteristicas|            endereco|                  id|quartos|suites|tipo_anuncio|tipo_unidade|   tipo_uso|vaga|             valores|\n",
            "+-----+----------+---------+---------+--------------------+--------------------+--------------------+-------+------+------------+------------+-----------+----+--------------------+\n",
            "|    3|        43|       43|        1|[Academia, Churra...|{Paciência, 23585...|d2e3a3aa-09b5-45a...|      2|  null|       Usado| Apartamento|Residencial|   1|[{245, null, Vend...|\n",
            "|    2|        42|       42|        1|[Churrasqueira, P...|{Paciência, 23585...|085bab2c-87ad-452...|      2|  null|       Usado| Apartamento|Residencial|   1|[{0, 0, Venda, 15...|\n",
            "|    1|        41|       41|        1|[Portaria 24h, Co...|{Guaratiba, 23036...|18d22cbe-1b86-476...|      2|  null|       Usado| Apartamento|Residencial|   1|[{0, 0, Venda, 20...|\n",
            "|    3|        43|       43|        1|[Churrasqueira, P...|{Cosmos, 23066271...|bed8a354-9317-442...|      2|  null|       Usado| Apartamento|Residencial|   0|[{285, null, Vend...|\n",
            "|    2|        43|       43|        1|[Academia, Churra...|{Guaratiba, 23036...|12a13315-d67f-48f...|      2|  null|       Usado| Apartamento|Residencial|   1|[{245, null, Vend...|\n",
            "|    3|        43|       43|        1|[Churrasqueira, P...|{Cosmos, 23066271...|a2e6d7a5-0ff0-484...|      2|     0|       Usado| Apartamento|Residencial|   0|[{285, null, Vend...|\n",
            "|    3|        43|       43|        1|[Churrasqueira, P...|{Paciência, 23585...|a6e3173b-c950-4db...|      2|  null|       Usado| Apartamento|Residencial|   1|[{250, null, Vend...|\n",
            "|    3|        43|       43|        1|[Churrasqueira, P...|{Guaratiba, 23036...|2e6e5dfb-206c-496...|      2|     0|       Usado| Apartamento|Residencial|   1|[{245, null, Vend...|\n",
            "|    3|        43|       43|        1|[Churrasqueira, P...|{Paciência, 23585...|99f8d0f9-95a4-461...|      2|     0|       Usado| Apartamento|Residencial|   1|[{245, null, Vend...|\n",
            "|    4|        43|       43|        1|[Churrasqueira, P...|{Guaratiba, 23036...|b3f44c1a-2d50-4d5...|      2|  null|       Usado| Apartamento|Residencial|   1|[{240, null, Vend...|\n",
            "|    0|        60|       60|        1|[Condomínio fechado]|{Pedra de Guarati...|dc99d9e1-4c63-41f...|      2|  null|       Usado| Apartamento|Residencial|   1|[{0, 0, Venda, 15...|\n",
            "|    1|        43|       43|        1|[Churrasqueira, P...|{Cosmos, 23056630...|aa3606d8-8bcd-45e...|      2|  null|       Usado| Apartamento|Residencial|   1|[{240, 0, Venda, ...|\n",
            "|    0|        43|       43|        1|[Churrasqueira, P...|{Campo Grande, 23...|df80b0d5-677c-4be...|      2|     0|       Usado| Apartamento|Residencial|   0|[{245, null, Vend...|\n",
            "|    2|        43|       43|        1|[Academia, Churra...|{Santa Cruz, 2352...|3d6c0218-9b7d-474...|      2|  null|       Usado| Apartamento|Residencial|   2|[{290, null, Vend...|\n",
            "|    3|        43|       43|        1|[Salão de festas,...|{Guaratiba, 23020...|304266cc-62d1-4ce...|      2|  null|       Usado| Apartamento|Residencial|null|[{285, null, Vend...|\n",
            "|    4|        55|       55|        2|[Academia, Churra...|{Recreio dos Band...|111472a2-afa1-4a7...|      2|     1|       Usado| Apartamento|Residencial|   1|[{0, 0, Venda, 30...|\n",
            "|    0|        45|       45|        1|[Playground, Pisc...|{Cosmos, 23066271...|275c1589-6537-4bf...|      2|     0|       Usado| Apartamento|Residencial|   1|[{null, null, Ven...|\n",
            "|    5|        42|       42|        1|[Condomínio fecha...|{Realengo, 217251...|ab8f367f-7509-45c...|      2|     0|       Usado| Apartamento|Residencial|   0|[{280, 0, Venda, ...|\n",
            "|    1|        43|       43|        1|[Churrasqueira, P...|{Cosmos, 23058001...|e0a3d370-66dd-4f5...|      2|  null|       Usado| Apartamento|Residencial|   1|[{280, null, Vend...|\n",
            "|    3|      null|       55|        1|[Academia, Churra...|{Todos os Santos,...|09c8ba2d-dbf1-487...|      2|     1|       Usado| Apartamento|Residencial|   1|[{0, 0, Venda, 26...|\n",
            "+-----+----------+---------+---------+--------------------+--------------------+--------------------+-------+------+------------+------------+-----------+----+--------------------+\n",
            "only showing top 20 rows\n",
            "\n"
          ]
        }
      ]
    },
    {
      "cell_type": "code",
      "source": [
        "anuncios = anuncios.withColumn('area_total',anuncios.area_total.cast(IntegerType()))\\\n",
        ".withColumn('area_util',anuncios.area_util.cast(IntegerType()))\\\n",
        ".withColumn('banheiros',anuncios.banheiros.cast(IntegerType()))\\\n",
        "                   .withColumn('quartos',anuncios.quartos.cast(IntegerType()))\\\n",
        "                   .withColumn('suites',anuncios.suites.cast(IntegerType()))\\\n",
        "                   .withColumn('vaga',anuncios.vaga.cast(IntegerType()))\\\n",
        "                   .fillna(0)"
      ],
      "metadata": {
        "id": "w9f7F2PIMM16"
      },
      "execution_count": 28,
      "outputs": []
    },
    {
      "cell_type": "code",
      "source": [
        "anuncios.printSchema()"
      ],
      "metadata": {
        "id": "2SewIA4rMQPc",
        "colab": {
          "base_uri": "https://localhost:8080/"
        },
        "outputId": "cf5ac42c-3bfd-4fd6-f1b5-60631e2dc4c7"
      },
      "execution_count": 29,
      "outputs": [
        {
          "output_type": "stream",
          "name": "stdout",
          "text": [
            "root\n",
            " |-- andar: long (nullable = true)\n",
            " |-- area_total: integer (nullable = true)\n",
            " |-- area_util: integer (nullable = true)\n",
            " |-- banheiros: integer (nullable = true)\n",
            " |-- caracteristicas: array (nullable = true)\n",
            " |    |-- element: string (containsNull = true)\n",
            " |-- endereco: struct (nullable = true)\n",
            " |    |-- bairro: string (nullable = true)\n",
            " |    |-- cep: string (nullable = true)\n",
            " |    |-- cidade: string (nullable = true)\n",
            " |    |-- estado: string (nullable = true)\n",
            " |    |-- latitude: double (nullable = true)\n",
            " |    |-- longitude: double (nullable = true)\n",
            " |    |-- pais: string (nullable = true)\n",
            " |    |-- rua: string (nullable = true)\n",
            " |    |-- zona: string (nullable = true)\n",
            " |-- id: string (nullable = true)\n",
            " |-- quartos: integer (nullable = true)\n",
            " |-- suites: integer (nullable = true)\n",
            " |-- tipo_anuncio: string (nullable = true)\n",
            " |-- tipo_unidade: string (nullable = true)\n",
            " |-- tipo_uso: string (nullable = true)\n",
            " |-- vaga: integer (nullable = true)\n",
            " |-- valores: array (nullable = true)\n",
            " |    |-- element: struct (containsNull = true)\n",
            " |    |    |-- condominio: string (nullable = true)\n",
            " |    |    |-- iptu: string (nullable = true)\n",
            " |    |    |-- tipo: string (nullable = true)\n",
            " |    |    |-- valor: string (nullable = true)\n",
            "\n"
          ]
        }
      ]
    },
    {
      "cell_type": "code",
      "source": [
        "anuncios.show()"
      ],
      "metadata": {
        "colab": {
          "base_uri": "https://localhost:8080/"
        },
        "id": "MRn_9nymoAPM",
        "outputId": "9612bbd3-8218-447b-9f05-7149a76f65e3"
      },
      "execution_count": 30,
      "outputs": [
        {
          "output_type": "stream",
          "name": "stdout",
          "text": [
            "+-----+----------+---------+---------+--------------------+--------------------+--------------------+-------+------+------------+------------+-----------+----+--------------------+\n",
            "|andar|area_total|area_util|banheiros|     caracteristicas|            endereco|                  id|quartos|suites|tipo_anuncio|tipo_unidade|   tipo_uso|vaga|             valores|\n",
            "+-----+----------+---------+---------+--------------------+--------------------+--------------------+-------+------+------------+------------+-----------+----+--------------------+\n",
            "|    3|        43|       43|        1|[Academia, Churra...|{Paciência, 23585...|d2e3a3aa-09b5-45a...|      2|     0|       Usado| Apartamento|Residencial|   1|[{245, null, Vend...|\n",
            "|    2|        42|       42|        1|[Churrasqueira, P...|{Paciência, 23585...|085bab2c-87ad-452...|      2|     0|       Usado| Apartamento|Residencial|   1|[{0, 0, Venda, 15...|\n",
            "|    1|        41|       41|        1|[Portaria 24h, Co...|{Guaratiba, 23036...|18d22cbe-1b86-476...|      2|     0|       Usado| Apartamento|Residencial|   1|[{0, 0, Venda, 20...|\n",
            "|    3|        43|       43|        1|[Churrasqueira, P...|{Cosmos, 23066271...|bed8a354-9317-442...|      2|     0|       Usado| Apartamento|Residencial|   0|[{285, null, Vend...|\n",
            "|    2|        43|       43|        1|[Academia, Churra...|{Guaratiba, 23036...|12a13315-d67f-48f...|      2|     0|       Usado| Apartamento|Residencial|   1|[{245, null, Vend...|\n",
            "|    3|        43|       43|        1|[Churrasqueira, P...|{Cosmos, 23066271...|a2e6d7a5-0ff0-484...|      2|     0|       Usado| Apartamento|Residencial|   0|[{285, null, Vend...|\n",
            "|    3|        43|       43|        1|[Churrasqueira, P...|{Paciência, 23585...|a6e3173b-c950-4db...|      2|     0|       Usado| Apartamento|Residencial|   1|[{250, null, Vend...|\n",
            "|    3|        43|       43|        1|[Churrasqueira, P...|{Guaratiba, 23036...|2e6e5dfb-206c-496...|      2|     0|       Usado| Apartamento|Residencial|   1|[{245, null, Vend...|\n",
            "|    3|        43|       43|        1|[Churrasqueira, P...|{Paciência, 23585...|99f8d0f9-95a4-461...|      2|     0|       Usado| Apartamento|Residencial|   1|[{245, null, Vend...|\n",
            "|    4|        43|       43|        1|[Churrasqueira, P...|{Guaratiba, 23036...|b3f44c1a-2d50-4d5...|      2|     0|       Usado| Apartamento|Residencial|   1|[{240, null, Vend...|\n",
            "|    0|        60|       60|        1|[Condomínio fechado]|{Pedra de Guarati...|dc99d9e1-4c63-41f...|      2|     0|       Usado| Apartamento|Residencial|   1|[{0, 0, Venda, 15...|\n",
            "|    1|        43|       43|        1|[Churrasqueira, P...|{Cosmos, 23056630...|aa3606d8-8bcd-45e...|      2|     0|       Usado| Apartamento|Residencial|   1|[{240, 0, Venda, ...|\n",
            "|    0|        43|       43|        1|[Churrasqueira, P...|{Campo Grande, 23...|df80b0d5-677c-4be...|      2|     0|       Usado| Apartamento|Residencial|   0|[{245, null, Vend...|\n",
            "|    2|        43|       43|        1|[Academia, Churra...|{Santa Cruz, 2352...|3d6c0218-9b7d-474...|      2|     0|       Usado| Apartamento|Residencial|   2|[{290, null, Vend...|\n",
            "|    3|        43|       43|        1|[Salão de festas,...|{Guaratiba, 23020...|304266cc-62d1-4ce...|      2|     0|       Usado| Apartamento|Residencial|   0|[{285, null, Vend...|\n",
            "|    4|        55|       55|        2|[Academia, Churra...|{Recreio dos Band...|111472a2-afa1-4a7...|      2|     1|       Usado| Apartamento|Residencial|   1|[{0, 0, Venda, 30...|\n",
            "|    0|        45|       45|        1|[Playground, Pisc...|{Cosmos, 23066271...|275c1589-6537-4bf...|      2|     0|       Usado| Apartamento|Residencial|   1|[{null, null, Ven...|\n",
            "|    5|        42|       42|        1|[Condomínio fecha...|{Realengo, 217251...|ab8f367f-7509-45c...|      2|     0|       Usado| Apartamento|Residencial|   0|[{280, 0, Venda, ...|\n",
            "|    1|        43|       43|        1|[Churrasqueira, P...|{Cosmos, 23058001...|e0a3d370-66dd-4f5...|      2|     0|       Usado| Apartamento|Residencial|   1|[{280, null, Vend...|\n",
            "|    3|         0|       55|        1|[Academia, Churra...|{Todos os Santos,...|09c8ba2d-dbf1-487...|      2|     1|       Usado| Apartamento|Residencial|   1|[{0, 0, Venda, 26...|\n",
            "+-----+----------+---------+---------+--------------------+--------------------+--------------------+-------+------+------------+------------+-----------+----+--------------------+\n",
            "only showing top 20 rows\n",
            "\n"
          ]
        }
      ]
    },
    {
      "cell_type": "code",
      "source": [
        "anuncios.filter(f.col(\"area_total\")==0).count()"
      ],
      "metadata": {
        "colab": {
          "base_uri": "https://localhost:8080/"
        },
        "id": "bBALltwFoc5-",
        "outputId": "5968f805-32db-4fa6-c94a-dc2be35f2c3f"
      },
      "execution_count": 31,
      "outputs": [
        {
          "output_type": "execute_result",
          "data": {
            "text/plain": [
              "9203"
            ]
          },
          "metadata": {},
          "execution_count": 31
        }
      ]
    },
    {
      "cell_type": "code",
      "source": [
        "anuncios.filter(f.col(\"area_util\")==0).count()"
      ],
      "metadata": {
        "colab": {
          "base_uri": "https://localhost:8080/"
        },
        "id": "SjtbMtGWpMTK",
        "outputId": "e6775e5f-1f5a-47ab-e623-e4339d20f5ab"
      },
      "execution_count": 32,
      "outputs": [
        {
          "output_type": "execute_result",
          "data": {
            "text/plain": [
              "0"
            ]
          },
          "metadata": {},
          "execution_count": 32
        }
      ]
    },
    {
      "cell_type": "code",
      "source": [
        "anuncios.filter(f.col(\"banheiros\")==0).count()"
      ],
      "metadata": {
        "colab": {
          "base_uri": "https://localhost:8080/"
        },
        "id": "2m4iqymCpbXr",
        "outputId": "10568d0c-a208-46c5-f268-f3b848e5e922"
      },
      "execution_count": 33,
      "outputs": [
        {
          "output_type": "execute_result",
          "data": {
            "text/plain": [
              "0"
            ]
          },
          "metadata": {},
          "execution_count": 33
        }
      ]
    },
    {
      "cell_type": "code",
      "source": [
        "anuncios.filter(f.col(\"quartos\")==0).count()"
      ],
      "metadata": {
        "colab": {
          "base_uri": "https://localhost:8080/"
        },
        "id": "ymRo5PVovdUN",
        "outputId": "e554db1a-2815-4ac6-d8f7-e23ff0c03b40"
      },
      "execution_count": 34,
      "outputs": [
        {
          "output_type": "execute_result",
          "data": {
            "text/plain": [
              "68"
            ]
          },
          "metadata": {},
          "execution_count": 34
        }
      ]
    },
    {
      "cell_type": "code",
      "source": [
        "area_zerada = anuncios.filter((f.col(\"area_total\")==0) & (f.col('area_util') == 0))\n",
        "area_zerada.show()"
      ],
      "metadata": {
        "colab": {
          "base_uri": "https://localhost:8080/"
        },
        "id": "ocswZQrdvg0e",
        "outputId": "9eaf97c2-e237-41be-e13d-51c6661ba80d"
      },
      "execution_count": 35,
      "outputs": [
        {
          "output_type": "stream",
          "name": "stdout",
          "text": [
            "+-----+----------+---------+---------+---------------+--------+---+-------+------+------------+------------+--------+----+-------+\n",
            "|andar|area_total|area_util|banheiros|caracteristicas|endereco| id|quartos|suites|tipo_anuncio|tipo_unidade|tipo_uso|vaga|valores|\n",
            "+-----+----------+---------+---------+---------------+--------+---+-------+------+------------+------------+--------+----+-------+\n",
            "+-----+----------+---------+---------+---------------+--------+---+-------+------+------------+------------+--------+----+-------+\n",
            "\n"
          ]
        }
      ]
    },
    {
      "cell_type": "markdown",
      "source": [
        "## Tratamento de informações sobre localização"
      ],
      "metadata": {
        "id": "01kDCmlI0P7c"
      }
    },
    {
      "cell_type": "markdown",
      "source": [
        "A equipe de ciência de dados nos solicitou que apenas as informações sobre **bairro** e **zona** da cidade fossem extraídas. \n",
        "\n",
        "Então, vamos analisar a coluna `endereco` e transformar apenas as informações sobre bairro e zona em colunas de nosso DataFrame."
      ],
      "metadata": {
        "id": "_bJNN88P0T-F"
      }
    },
    {
      "cell_type": "code",
      "source": [
        "anuncios.printSchema()"
      ],
      "metadata": {
        "colab": {
          "base_uri": "https://localhost:8080/"
        },
        "id": "7m9BJrs60hAy",
        "outputId": "1dcd43f6-3f34-484a-ad0e-3638f702323b"
      },
      "execution_count": 36,
      "outputs": [
        {
          "output_type": "stream",
          "name": "stdout",
          "text": [
            "root\n",
            " |-- andar: long (nullable = true)\n",
            " |-- area_total: integer (nullable = true)\n",
            " |-- area_util: integer (nullable = true)\n",
            " |-- banheiros: integer (nullable = true)\n",
            " |-- caracteristicas: array (nullable = true)\n",
            " |    |-- element: string (containsNull = true)\n",
            " |-- endereco: struct (nullable = true)\n",
            " |    |-- bairro: string (nullable = true)\n",
            " |    |-- cep: string (nullable = true)\n",
            " |    |-- cidade: string (nullable = true)\n",
            " |    |-- estado: string (nullable = true)\n",
            " |    |-- latitude: double (nullable = true)\n",
            " |    |-- longitude: double (nullable = true)\n",
            " |    |-- pais: string (nullable = true)\n",
            " |    |-- rua: string (nullable = true)\n",
            " |    |-- zona: string (nullable = true)\n",
            " |-- id: string (nullable = true)\n",
            " |-- quartos: integer (nullable = true)\n",
            " |-- suites: integer (nullable = true)\n",
            " |-- tipo_anuncio: string (nullable = true)\n",
            " |-- tipo_unidade: string (nullable = true)\n",
            " |-- tipo_uso: string (nullable = true)\n",
            " |-- vaga: integer (nullable = true)\n",
            " |-- valores: array (nullable = true)\n",
            " |    |-- element: struct (containsNull = true)\n",
            " |    |    |-- condominio: string (nullable = true)\n",
            " |    |    |-- iptu: string (nullable = true)\n",
            " |    |    |-- tipo: string (nullable = true)\n",
            " |    |    |-- valor: string (nullable = true)\n",
            "\n"
          ]
        }
      ]
    },
    {
      "cell_type": "code",
      "source": [
        "anuncios = anuncios.withColumn('bairro', anuncios.endereco.bairro)\n",
        "anuncios = anuncios.withColumn('zona', anuncios.endereco.zona)"
      ],
      "metadata": {
        "id": "ccg6HM-rvqYM"
      },
      "execution_count": 37,
      "outputs": []
    },
    {
      "cell_type": "code",
      "source": [
        "anuncios = anuncios.drop('endereco')"
      ],
      "metadata": {
        "id": "wcvmwKqA0rZY"
      },
      "execution_count": 38,
      "outputs": []
    },
    {
      "cell_type": "code",
      "source": [
        "anuncios.show(truncate=False)"
      ],
      "metadata": {
        "colab": {
          "base_uri": "https://localhost:8080/"
        },
        "id": "9m0Xfb3D0tuZ",
        "outputId": "251271ce-feeb-4923-ac93-2bcbca751920"
      },
      "execution_count": 39,
      "outputs": [
        {
          "output_type": "stream",
          "name": "stdout",
          "text": [
            "+-----+----------+---------+---------+--------------------------------------------------------------------------------------------------------------------------------------------------+------------------------------------+-------+------+------------+------------+-----------+----+----------------------------+------------------------+----------+\n",
            "|andar|area_total|area_util|banheiros|caracteristicas                                                                                                                                   |id                                  |quartos|suites|tipo_anuncio|tipo_unidade|tipo_uso   |vaga|valores                     |bairro                  |zona      |\n",
            "+-----+----------+---------+---------+--------------------------------------------------------------------------------------------------------------------------------------------------+------------------------------------+-------+------+------------+------------+-----------+----+----------------------------+------------------------+----------+\n",
            "|3    |43        |43       |1        |[Academia, Churrasqueira, Playground, Salão de festas, Condomínio fechado, Portão eletrônico, Portaria 24h, Animais permitidos]                   |d2e3a3aa-09b5-45a0-9dcd-918847cd3ca3|2      |0     |Usado       |Apartamento |Residencial|1   |[{245, null, Venda, 15000}] |Paciência               |Zona Oeste|\n",
            "|2    |42        |42       |1        |[Churrasqueira, Playground, Salão de festas, Condomínio fechado, Portão eletrônico, Portaria 24h, Animais permitidos]                             |085bab2c-87ad-452a-bd0f-8b1451509f84|2      |0     |Usado       |Apartamento |Residencial|1   |[{0, 0, Venda, 15000}]      |Paciência               |Zona Oeste|\n",
            "|1    |41        |41       |1        |[Portaria 24h, Condomínio fechado, Playground, Salão de festas, Churrasqueira, Portão eletrônico]                                                 |18d22cbe-1b86-4764-8def-70c615f15a61|2      |0     |Usado       |Apartamento |Residencial|1   |[{0, 0, Venda, 20000}]      |Guaratiba               |Zona Oeste|\n",
            "|3    |43        |43       |1        |[Churrasqueira, Piscina, Playground, Salão de festas, Condomínio fechado, Portão eletrônico, Portaria 24h, Animais permitidos]                    |bed8a354-9317-4426-b27e-1c798f864271|2      |0     |Usado       |Apartamento |Residencial|0   |[{285, null, Venda, 20000}] |Cosmos                  |Zona Oeste|\n",
            "|2    |43        |43       |1        |[Academia, Churrasqueira, Playground, Salão de festas, Condomínio fechado, Portão eletrônico, Portaria 24h, Animais permitidos]                   |12a13315-d67f-48f0-9497-017b83252781|2      |0     |Usado       |Apartamento |Residencial|1   |[{245, null, Venda, 15000}] |Guaratiba               |Zona Oeste|\n",
            "|3    |43        |43       |1        |[Churrasqueira, Piscina, Playground, Salão de festas, Condomínio fechado, Portaria 24h, Portão eletrônico, Animais permitidos]                    |a2e6d7a5-0ff0-484d-b3d8-3a8f15e2d80e|2      |0     |Usado       |Apartamento |Residencial|0   |[{285, null, Venda, 20000}] |Cosmos                  |Zona Oeste|\n",
            "|3    |43        |43       |1        |[Churrasqueira, Playground, Salão de festas, Condomínio fechado, Portão eletrônico, Portaria 24h, Animais permitidos]                             |a6e3173b-c950-4db4-9b7b-80c44bd75e90|2      |0     |Usado       |Apartamento |Residencial|1   |[{250, null, Venda, 15000}] |Paciência               |Zona Oeste|\n",
            "|3    |43        |43       |1        |[Churrasqueira, Playground, Salão de festas, Condomínio fechado, Portão eletrônico, Animais permitidos]                                           |2e6e5dfb-206c-4968-944b-ea4c3918b50d|2      |0     |Usado       |Apartamento |Residencial|1   |[{245, null, Venda, 15000}] |Guaratiba               |Zona Oeste|\n",
            "|3    |43        |43       |1        |[Churrasqueira, Playground, Salão de festas, Condomínio fechado, Portão eletrônico, Portaria 24h, Animais permitidos]                             |99f8d0f9-95a4-4613-a55d-c949e7a73e90|2      |0     |Usado       |Apartamento |Residencial|1   |[{245, null, Venda, 15000}] |Paciência               |Zona Oeste|\n",
            "|4    |43        |43       |1        |[Churrasqueira, Playground, Salão de festas, Condomínio fechado, Portão eletrônico, Portaria 24h, Animais permitidos]                             |b3f44c1a-2d50-4d56-b1fb-a94d59b55ab8|2      |0     |Usado       |Apartamento |Residencial|1   |[{240, null, Venda, 17999}] |Guaratiba               |Zona Oeste|\n",
            "|0    |60        |60       |1        |[Condomínio fechado]                                                                                                                              |dc99d9e1-4c63-41f7-a53d-678b2b3ccb52|2      |0     |Usado       |Apartamento |Residencial|1   |[{0, 0, Venda, 15000}]      |Pedra de Guaratiba      |Zona Oeste|\n",
            "|1    |43        |43       |1        |[Churrasqueira, Playground, Salão de festas, Condomínio fechado, Portão eletrônico, Portaria 24h]                                                 |aa3606d8-8bcd-45ec-a609-d68a58a12014|2      |0     |Usado       |Apartamento |Residencial|1   |[{240, 0, Venda, 19999}]    |Cosmos                  |Zona Oeste|\n",
            "|0    |43        |43       |1        |[Churrasqueira, Playground, Salão de festas, Condomínio fechado, Portão eletrônico, Portaria 24h, Animais permitidos]                             |df80b0d5-677c-4be7-93c4-ddef578125ac|2      |0     |Usado       |Apartamento |Residencial|0   |[{245, null, Venda, 19999}] |Campo Grande            |Zona Oeste|\n",
            "|2    |43        |43       |1        |[Academia, Churrasqueira, Piscina, Playground, Salão de festas, Condomínio fechado, Portão eletrônico, Portaria 24h, Animais permitidos]          |3d6c0218-9b7d-474b-9a44-cd3e005375f9|2      |0     |Usado       |Apartamento |Residencial|2   |[{290, null, Venda, 25000}] |Santa Cruz              |Zona Oeste|\n",
            "|3    |43        |43       |1        |[Salão de festas, Playground, Condomínio fechado, Portão eletrônico, Portaria 24h, Animais permitidos]                                            |304266cc-62d1-4ce7-909b-21198c306839|2      |0     |Usado       |Apartamento |Residencial|0   |[{285, null, Venda, 29999}] |Guaratiba               |Zona Oeste|\n",
            "|4    |55        |55       |2        |[Academia, Churrasqueira, Piscina, Playground, Salão de festas, Elevador, Condomínio fechado, Portão eletrônico, Portaria 24h, Animais permitidos]|111472a2-afa1-4a73-a8b3-3588ffba362c|2      |1     |Usado       |Apartamento |Residencial|1   |[{0, 0, Venda, 30000}]      |Recreio dos Bandeirantes|Zona Oeste|\n",
            "|0    |45        |45       |1        |[Playground, Piscina, Churrasqueira, Salão de festas, Condomínio fechado]                                                                         |275c1589-6537-4bf7-9504-74410dbf01fc|2      |0     |Usado       |Apartamento |Residencial|1   |[{null, null, Venda, 30000}]|Cosmos                  |Zona Oeste|\n",
            "|5    |42        |42       |1        |[Condomínio fechado, Portaria 24h, Salão de festas, Portão eletrônico, Animais permitidos]                                                        |ab8f367f-7509-45c7-ad9a-f51f84584376|2      |0     |Usado       |Apartamento |Residencial|0   |[{280, 0, Venda, 25000}]    |Realengo                |Zona Oeste|\n",
            "|1    |43        |43       |1        |[Churrasqueira, Playground, Salão de festas, Condomínio fechado, Portão eletrônico, Portaria 24h, Animais permitidos]                             |e0a3d370-66dd-4f50-a3d9-cf09c8212318|2      |0     |Usado       |Apartamento |Residencial|1   |[{280, null, Venda, 27999}] |Cosmos                  |Zona Oeste|\n",
            "|3    |0         |55       |1        |[Academia, Churrasqueira, Piscina, Playground, Salão de festas, Elevador, Condomínio fechado, Portão eletrônico, Portaria 24h, Animais permitidos]|09c8ba2d-dbf1-4879-ba5b-1345355dc415|2      |1     |Usado       |Apartamento |Residencial|1   |[{0, 0, Venda, 26000}]      |Todos os Santos         |Zona Norte|\n",
            "+-----+----------+---------+---------+--------------------------------------------------------------------------------------------------------------------------------------------------+------------------------------------+-------+------+------------+------------+-----------+----+----------------------------+------------------------+----------+\n",
            "only showing top 20 rows\n",
            "\n"
          ]
        }
      ]
    },
    {
      "cell_type": "markdown",
      "source": [
        "## Transformar cada campo da coluna \"valores\" em uma coluna separada"
      ],
      "metadata": {
        "id": "p8JLQfZ11CW5"
      }
    },
    {
      "cell_type": "markdown",
      "source": [
        "Pensando em simplificar a compreensão dos dados para as pessoas cientistas de dados, vamos entender a estrutura da coluna **valores** que é a mais importante da base de dados.\n",
        "\n",
        "```\n",
        "root\n",
        " |-- valores: array (nullable = true)\n",
        " |    |-- element: struct (containsNull = true)\n",
        " |    |    |-- condominio: string (nullable = true)\n",
        " |    |    |-- iptu: string (nullable = true)\n",
        " |    |    |-- tipo: string (nullable = true)\n",
        " |    |    |-- valor: string (nullable = true)\n",
        "```\n",
        "\n",
        "Podemos observar que os valores são do tipo array, ou seja, uma lista que contém elementos. Estes elementos são dicionários com as informações de `condominio`, `iptu`, `tipo`, e `valor`\n",
        "\n",
        "Nesse contexto, **transforme os dados da coluna valores em colunas separadas**."
      ],
      "metadata": {
        "id": "GZPMymET1Eah"
      }
    },
    {
      "cell_type": "code",
      "source": [
        "anuncios = anuncios.withColumn('condominio', anuncios.valores.condominio)\n",
        "anuncios = anuncios.withColumn('iptu', anuncios.valores.iptu)\n",
        "anuncios = anuncios.withColumn('tipo', anuncios.valores.tipo)\n",
        "anuncios = anuncios.withColumn('valor', anuncios.valores.valor)"
      ],
      "metadata": {
        "id": "tkuTBFXP04eA"
      },
      "execution_count": 40,
      "outputs": []
    },
    {
      "cell_type": "code",
      "source": [
        "anuncios = anuncios.drop('valores')"
      ],
      "metadata": {
        "id": "VktUskTW101N"
      },
      "execution_count": 41,
      "outputs": []
    },
    {
      "cell_type": "code",
      "source": [
        "anuncios.show(5, truncate=False)"
      ],
      "metadata": {
        "colab": {
          "base_uri": "https://localhost:8080/"
        },
        "id": "0lnO7m651WdK",
        "outputId": "46d7f2c2-673b-444c-c943-053d89b48082"
      },
      "execution_count": 42,
      "outputs": [
        {
          "output_type": "stream",
          "name": "stdout",
          "text": [
            "+-----+----------+---------+---------+-------------------------------------------------------------------------------------------------------------------------------+------------------------------------+-------+------+------------+------------+-----------+----+---------+----------+----------+------+-------+-------+\n",
            "|andar|area_total|area_util|banheiros|caracteristicas                                                                                                                |id                                  |quartos|suites|tipo_anuncio|tipo_unidade|tipo_uso   |vaga|bairro   |zona      |condominio|iptu  |tipo   |valor  |\n",
            "+-----+----------+---------+---------+-------------------------------------------------------------------------------------------------------------------------------+------------------------------------+-------+------+------------+------------+-----------+----+---------+----------+----------+------+-------+-------+\n",
            "|3    |43        |43       |1        |[Academia, Churrasqueira, Playground, Salão de festas, Condomínio fechado, Portão eletrônico, Portaria 24h, Animais permitidos]|d2e3a3aa-09b5-45a0-9dcd-918847cd3ca3|2      |0     |Usado       |Apartamento |Residencial|1   |Paciência|Zona Oeste|[245]     |[null]|[Venda]|[15000]|\n",
            "|2    |42        |42       |1        |[Churrasqueira, Playground, Salão de festas, Condomínio fechado, Portão eletrônico, Portaria 24h, Animais permitidos]          |085bab2c-87ad-452a-bd0f-8b1451509f84|2      |0     |Usado       |Apartamento |Residencial|1   |Paciência|Zona Oeste|[0]       |[0]   |[Venda]|[15000]|\n",
            "|1    |41        |41       |1        |[Portaria 24h, Condomínio fechado, Playground, Salão de festas, Churrasqueira, Portão eletrônico]                              |18d22cbe-1b86-4764-8def-70c615f15a61|2      |0     |Usado       |Apartamento |Residencial|1   |Guaratiba|Zona Oeste|[0]       |[0]   |[Venda]|[20000]|\n",
            "|3    |43        |43       |1        |[Churrasqueira, Piscina, Playground, Salão de festas, Condomínio fechado, Portão eletrônico, Portaria 24h, Animais permitidos] |bed8a354-9317-4426-b27e-1c798f864271|2      |0     |Usado       |Apartamento |Residencial|0   |Cosmos   |Zona Oeste|[285]     |[null]|[Venda]|[20000]|\n",
            "|2    |43        |43       |1        |[Academia, Churrasqueira, Playground, Salão de festas, Condomínio fechado, Portão eletrônico, Portaria 24h, Animais permitidos]|12a13315-d67f-48f0-9497-017b83252781|2      |0     |Usado       |Apartamento |Residencial|1   |Guaratiba|Zona Oeste|[245]     |[null]|[Venda]|[15000]|\n",
            "+-----+----------+---------+---------+-------------------------------------------------------------------------------------------------------------------------------+------------------------------------+-------+------+------------+------------+-----------+----+---------+----------+----------+------+-------+-------+\n",
            "only showing top 5 rows\n",
            "\n"
          ]
        }
      ]
    },
    {
      "cell_type": "code",
      "source": [
        "from pyspark.sql.types import FloatType, StringType"
      ],
      "metadata": {
        "id": "FPtcgb1i2M0C"
      },
      "execution_count": 43,
      "outputs": []
    },
    {
      "cell_type": "code",
      "source": [
        "anuncios = anuncios.withColumn('condominio',anuncios.condominio[0])\\\n",
        "                    .withColumn('iptu',anuncios.iptu[0])\\\n",
        "                    .withColumn('tipo',anuncios.tipo[0])\\\n",
        "                    .withColumn('valor',anuncios.valor[0])"
      ],
      "metadata": {
        "id": "ZLmxh2TQ22nK"
      },
      "execution_count": 44,
      "outputs": []
    },
    {
      "cell_type": "code",
      "source": [
        "anuncios = anuncios.withColumn('condominio',anuncios.condominio.cast(FloatType()))\\\n",
        "                    .withColumn('iptu',anuncios.iptu.cast(FloatType()))\\\n",
        "                    .withColumn('tipo',anuncios.tipo.cast(StringType()))\\\n",
        "                    .withColumn('valor',anuncios.valor.cast(FloatType()))\\"
      ],
      "metadata": {
        "id": "vpn95g0C1aTM"
      },
      "execution_count": 45,
      "outputs": []
    },
    {
      "cell_type": "code",
      "source": [
        "anuncios = anuncios.fillna(0)"
      ],
      "metadata": {
        "id": "v0s41EyD3JGp"
      },
      "execution_count": 46,
      "outputs": []
    },
    {
      "cell_type": "code",
      "source": [
        "anuncios.show(5, truncate=False)"
      ],
      "metadata": {
        "colab": {
          "base_uri": "https://localhost:8080/"
        },
        "id": "4Vt47suH2n4x",
        "outputId": "30c57652-391e-4729-f542-0795ea9be2a8"
      },
      "execution_count": 47,
      "outputs": [
        {
          "output_type": "stream",
          "name": "stdout",
          "text": [
            "+-----+----------+---------+---------+-------------------------------------------------------------------------------------------------------------------------------+------------------------------------+-------+------+------------+------------+-----------+----+---------+----------+----------+----+-----+-------+\n",
            "|andar|area_total|area_util|banheiros|caracteristicas                                                                                                                |id                                  |quartos|suites|tipo_anuncio|tipo_unidade|tipo_uso   |vaga|bairro   |zona      |condominio|iptu|tipo |valor  |\n",
            "+-----+----------+---------+---------+-------------------------------------------------------------------------------------------------------------------------------+------------------------------------+-------+------+------------+------------+-----------+----+---------+----------+----------+----+-----+-------+\n",
            "|3    |43        |43       |1        |[Academia, Churrasqueira, Playground, Salão de festas, Condomínio fechado, Portão eletrônico, Portaria 24h, Animais permitidos]|d2e3a3aa-09b5-45a0-9dcd-918847cd3ca3|2      |0     |Usado       |Apartamento |Residencial|1   |Paciência|Zona Oeste|245.0     |0.0 |Venda|15000.0|\n",
            "|2    |42        |42       |1        |[Churrasqueira, Playground, Salão de festas, Condomínio fechado, Portão eletrônico, Portaria 24h, Animais permitidos]          |085bab2c-87ad-452a-bd0f-8b1451509f84|2      |0     |Usado       |Apartamento |Residencial|1   |Paciência|Zona Oeste|0.0       |0.0 |Venda|15000.0|\n",
            "|1    |41        |41       |1        |[Portaria 24h, Condomínio fechado, Playground, Salão de festas, Churrasqueira, Portão eletrônico]                              |18d22cbe-1b86-4764-8def-70c615f15a61|2      |0     |Usado       |Apartamento |Residencial|1   |Guaratiba|Zona Oeste|0.0       |0.0 |Venda|20000.0|\n",
            "|3    |43        |43       |1        |[Churrasqueira, Piscina, Playground, Salão de festas, Condomínio fechado, Portão eletrônico, Portaria 24h, Animais permitidos] |bed8a354-9317-4426-b27e-1c798f864271|2      |0     |Usado       |Apartamento |Residencial|0   |Cosmos   |Zona Oeste|285.0     |0.0 |Venda|20000.0|\n",
            "|2    |43        |43       |1        |[Academia, Churrasqueira, Playground, Salão de festas, Condomínio fechado, Portão eletrônico, Portaria 24h, Animais permitidos]|12a13315-d67f-48f0-9497-017b83252781|2      |0     |Usado       |Apartamento |Residencial|1   |Guaratiba|Zona Oeste|245.0     |0.0 |Venda|15000.0|\n",
            "+-----+----------+---------+---------+-------------------------------------------------------------------------------------------------------------------------------+------------------------------------+-------+------+------------+------------+-----------+----+---------+----------+----------+----+-----+-------+\n",
            "only showing top 5 rows\n",
            "\n"
          ]
        }
      ]
    },
    {
      "cell_type": "markdown",
      "source": [
        "## Tratamento para a coluna de valores"
      ],
      "metadata": {
        "id": "B04BlBB03TQE"
      }
    },
    {
      "cell_type": "markdown",
      "source": [
        "A **InsightPlaces** permite que o(a) anunciante crie um anúncio com duas opções de valor. Assim, o(a) cliente pode criar um anúncio que mostre tanto o valor de venda do imóvel quanto o seu valor de locação, juntamente com os valores de taxa de condomínio (quando houver) e taxa de IPTU. Estes valores são diferenciados pelo campo `tipo` que pode assumir os valores `Venda` e `Aluguel`.\n",
        "\n",
        "Como se trata de um estudo sobre o preço de venda dos imóveis, o time de cientistas de dados solicitou apenas as informações do tipo VENDA.\n",
        "\n",
        "Selecione apenas os valores de **Venda**.\n",
        "\n",
        "---\n",
        "\n",
        "**Dica:**\n",
        "\n",
        "Vamos deixar aqui a documentação de dois métodos que podem ser úteis nessa etapa: \n",
        "\n",
        "* [pyspark.sql.functions.explode](https://spark.apache.org/docs/3.1.3/api/python/reference/api/pyspark.sql.functions.explode.html)\n",
        "* [pyspark.sql.DataFrame.join](https://spark.apache.org/docs/3.1.2/api/python/reference/api/pyspark.sql.DataFrame.join.html)"
      ],
      "metadata": {
        "id": "4XeVwClP3VnR"
      }
    },
    {
      "cell_type": "code",
      "source": [
        "anuncios = anuncios.select('*').where('tipo == \"Venda\"')"
      ],
      "metadata": {
        "id": "0UFOrZ5Z3D57"
      },
      "execution_count": 48,
      "outputs": []
    },
    {
      "cell_type": "code",
      "source": [
        "anuncios.count()"
      ],
      "metadata": {
        "colab": {
          "base_uri": "https://localhost:8080/"
        },
        "id": "RANf3I5g3oX-",
        "outputId": "9d28541d-2f32-48dd-a6ba-f421effcf149"
      },
      "execution_count": 49,
      "outputs": [
        {
          "output_type": "execute_result",
          "data": {
            "text/plain": [
              "66348"
            ]
          },
          "metadata": {},
          "execution_count": 49
        }
      ]
    },
    {
      "cell_type": "markdown",
      "source": [
        "## Salvar os dados no formato parquet"
      ],
      "metadata": {
        "id": "_uSp389x32Vr"
      }
    },
    {
      "cell_type": "code",
      "source": [
        "anuncios.write.parquet('/content/drive/MyDrive/Challenge-Imoveis/anuncios.parquet')"
      ],
      "metadata": {
        "id": "9B-VzrzK3pZ3"
      },
      "execution_count": 50,
      "outputs": []
    }
  ]
}