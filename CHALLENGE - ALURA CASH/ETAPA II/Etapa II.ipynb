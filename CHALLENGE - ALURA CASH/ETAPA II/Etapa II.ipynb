{
 "cells": [
  {
   "cell_type": "markdown",
   "id": "eaee8ee2",
   "metadata": {},
   "source": [
    "<h1><center>Challenge Alura - Data Science - Alura Cash </center></h1>\n",
    "<h1><center>ETAPA II</center></h1>\n"
   ]
  },
  {
   "cell_type": "markdown",
   "id": "5890c2a6",
   "metadata": {},
   "source": [
    "Essa etapa do Challenge consiste no tratamento da base de dados a fim de facilitar e melhorar a ánalise dos mesmos."
   ]
  },
  {
   "cell_type": "markdown",
   "id": "21691bb8",
   "metadata": {},
   "source": [
    "### <center> Importação da base de dados </center>"
   ]
  },
  {
   "cell_type": "markdown",
   "id": "204d8c0a",
   "metadata": {},
   "source": [
    "Os arquivos originais foram disponibilizados em uma fonte 'dump', contendo quatro tabelas ('dados_mutuarios', 'emprestimos', 'historico_bancos', 'ids').\n",
    "\n",
    "A tabela de 'ids' contém informações que possibilita a união com as demais tabelas. Essa união das tabelas foi realizada no MySQL e exportada no formato csv."
   ]
  },
  {
   "cell_type": "code",
   "execution_count": 53,
   "id": "f3cfb344",
   "metadata": {},
   "outputs": [],
   "source": [
    "import pandas as pd"
   ]
  },
  {
   "cell_type": "code",
   "execution_count": 54,
   "id": "ac6b9ffb",
   "metadata": {},
   "outputs": [],
   "source": [
    "dados = pd.read_csv('../BRONZE/dados_aluracash.csv', sep=';')"
   ]
  },
  {
   "cell_type": "code",
   "execution_count": 55,
   "id": "e7d37fc8",
   "metadata": {},
   "outputs": [
    {
     "data": {
      "text/html": [
       "<div>\n",
       "<style scoped>\n",
       "    .dataframe tbody tr th:only-of-type {\n",
       "        vertical-align: middle;\n",
       "    }\n",
       "\n",
       "    .dataframe tbody tr th {\n",
       "        vertical-align: top;\n",
       "    }\n",
       "\n",
       "    .dataframe thead th {\n",
       "        text-align: right;\n",
       "    }\n",
       "</style>\n",
       "<table border=\"1\" class=\"dataframe\">\n",
       "  <thead>\n",
       "    <tr style=\"text-align: right;\">\n",
       "      <th></th>\n",
       "      <th>person_age</th>\n",
       "      <th>person_income</th>\n",
       "      <th>person_home_ownership</th>\n",
       "      <th>person_emp_length</th>\n",
       "      <th>loan_intent</th>\n",
       "      <th>loan_grade</th>\n",
       "      <th>loan_amnt</th>\n",
       "      <th>loan_int_rate</th>\n",
       "      <th>loan_status</th>\n",
       "      <th>loan_percent_income</th>\n",
       "      <th>cb_person_default_on_file</th>\n",
       "      <th>cb_person_cred_hist_length</th>\n",
       "    </tr>\n",
       "  </thead>\n",
       "  <tbody>\n",
       "    <tr>\n",
       "      <th>0</th>\n",
       "      <td>27</td>\n",
       "      <td>68000</td>\n",
       "      <td>Rent</td>\n",
       "      <td>4.0</td>\n",
       "      <td>Homeimprovement</td>\n",
       "      <td>A</td>\n",
       "      <td>8700</td>\n",
       "      <td>7.88</td>\n",
       "      <td>0</td>\n",
       "      <td>0.13</td>\n",
       "      <td>N</td>\n",
       "      <td>5</td>\n",
       "    </tr>\n",
       "    <tr>\n",
       "      <th>1</th>\n",
       "      <td>24</td>\n",
       "      <td>12600</td>\n",
       "      <td>Rent</td>\n",
       "      <td>2.0</td>\n",
       "      <td>Venture</td>\n",
       "      <td>C</td>\n",
       "      <td>2500</td>\n",
       "      <td>13.11</td>\n",
       "      <td>1</td>\n",
       "      <td>0.20</td>\n",
       "      <td>Y</td>\n",
       "      <td>2</td>\n",
       "    </tr>\n",
       "    <tr>\n",
       "      <th>2</th>\n",
       "      <td>30</td>\n",
       "      <td>100000</td>\n",
       "      <td>Rent</td>\n",
       "      <td>13.0</td>\n",
       "      <td>Debtconsolidation</td>\n",
       "      <td>A</td>\n",
       "      <td>12000</td>\n",
       "      <td>7.88</td>\n",
       "      <td>0</td>\n",
       "      <td>0.12</td>\n",
       "      <td>N</td>\n",
       "      <td>9</td>\n",
       "    </tr>\n",
       "    <tr>\n",
       "      <th>3</th>\n",
       "      <td>28</td>\n",
       "      <td>83000</td>\n",
       "      <td>Mortgage</td>\n",
       "      <td>6.0</td>\n",
       "      <td>Debtconsolidation</td>\n",
       "      <td>B</td>\n",
       "      <td>5000</td>\n",
       "      <td>0.00</td>\n",
       "      <td>0</td>\n",
       "      <td>0.06</td>\n",
       "      <td>N</td>\n",
       "      <td>9</td>\n",
       "    </tr>\n",
       "    <tr>\n",
       "      <th>4</th>\n",
       "      <td>30</td>\n",
       "      <td>110400</td>\n",
       "      <td>Rent</td>\n",
       "      <td>1.0</td>\n",
       "      <td>Venture</td>\n",
       "      <td>D</td>\n",
       "      <td>14000</td>\n",
       "      <td>16.89</td>\n",
       "      <td>1</td>\n",
       "      <td>0.13</td>\n",
       "      <td>N</td>\n",
       "      <td>6</td>\n",
       "    </tr>\n",
       "  </tbody>\n",
       "</table>\n",
       "</div>"
      ],
      "text/plain": [
       "   person_age  person_income person_home_ownership  person_emp_length  \\\n",
       "0          27          68000                  Rent                4.0   \n",
       "1          24          12600                  Rent                2.0   \n",
       "2          30         100000                  Rent               13.0   \n",
       "3          28          83000              Mortgage                6.0   \n",
       "4          30         110400                  Rent                1.0   \n",
       "\n",
       "         loan_intent loan_grade  loan_amnt  loan_int_rate  loan_status  \\\n",
       "0    Homeimprovement          A       8700           7.88            0   \n",
       "1            Venture          C       2500          13.11            1   \n",
       "2  Debtconsolidation          A      12000           7.88            0   \n",
       "3  Debtconsolidation          B       5000           0.00            0   \n",
       "4            Venture          D      14000          16.89            1   \n",
       "\n",
       "   loan_percent_income cb_person_default_on_file  cb_person_cred_hist_length  \n",
       "0                 0.13                         N                           5  \n",
       "1                 0.20                         Y                           2  \n",
       "2                 0.12                         N                           9  \n",
       "3                 0.06                         N                           9  \n",
       "4                 0.13                         N                           6  "
      ]
     },
     "execution_count": 55,
     "metadata": {},
     "output_type": "execute_result"
    }
   ],
   "source": [
    "dados.head()"
   ]
  },
  {
   "cell_type": "markdown",
   "id": "6a73e470",
   "metadata": {},
   "source": [
    "<h2><center>Verificação de valores nulos</center></h2>"
   ]
  },
  {
   "cell_type": "code",
   "execution_count": 56,
   "id": "1f42c69d",
   "metadata": {},
   "outputs": [
    {
     "name": "stdout",
     "output_type": "stream",
     "text": [
      "<class 'pandas.core.frame.DataFrame'>\n",
      "RangeIndex: 34501 entries, 0 to 34500\n",
      "Data columns (total 12 columns):\n",
      " #   Column                      Non-Null Count  Dtype  \n",
      "---  ------                      --------------  -----  \n",
      " 0   person_age                  34501 non-null  int64  \n",
      " 1   person_income               34501 non-null  int64  \n",
      " 2   person_home_ownership       34170 non-null  object \n",
      " 3   person_emp_length           34501 non-null  float64\n",
      " 4   loan_intent                 34186 non-null  object \n",
      " 5   loan_grade                  34188 non-null  object \n",
      " 6   loan_amnt                   34501 non-null  int64  \n",
      " 7   loan_int_rate               34501 non-null  float64\n",
      " 8   loan_status                 34501 non-null  int64  \n",
      " 9   loan_percent_income         34501 non-null  float64\n",
      " 10  cb_person_default_on_file   34131 non-null  object \n",
      " 11  cb_person_cred_hist_length  34501 non-null  int64  \n",
      "dtypes: float64(3), int64(5), object(4)\n",
      "memory usage: 3.2+ MB\n"
     ]
    }
   ],
   "source": [
    "dados.info()"
   ]
  },
  {
   "cell_type": "code",
   "execution_count": 57,
   "id": "fb9240f3",
   "metadata": {},
   "outputs": [
    {
     "data": {
      "text/plain": [
       "person_age                      0\n",
       "person_income                   0\n",
       "person_home_ownership         331\n",
       "person_emp_length               0\n",
       "loan_intent                   315\n",
       "loan_grade                    313\n",
       "loan_amnt                       0\n",
       "loan_int_rate                   0\n",
       "loan_status                     0\n",
       "loan_percent_income             0\n",
       "cb_person_default_on_file     370\n",
       "cb_person_cred_hist_length      0\n",
       "dtype: int64"
      ]
     },
     "execution_count": 57,
     "metadata": {},
     "output_type": "execute_result"
    }
   ],
   "source": [
    "dados.isnull().sum()"
   ]
  },
  {
   "cell_type": "markdown",
   "id": "323c896f",
   "metadata": {},
   "source": [
    "Como a quantidade de valores nulos é pequena em relação ao total de dados, opta-se por removê-los."
   ]
  },
  {
   "cell_type": "code",
   "execution_count": 58,
   "id": "ea45b49f",
   "metadata": {},
   "outputs": [],
   "source": [
    "dados.dropna(inplace=True)"
   ]
  },
  {
   "cell_type": "code",
   "execution_count": 59,
   "id": "8f72bc62",
   "metadata": {},
   "outputs": [
    {
     "data": {
      "text/plain": [
       "person_age                    0\n",
       "person_income                 0\n",
       "person_home_ownership         0\n",
       "person_emp_length             0\n",
       "loan_intent                   0\n",
       "loan_grade                    0\n",
       "loan_amnt                     0\n",
       "loan_int_rate                 0\n",
       "loan_status                   0\n",
       "loan_percent_income           0\n",
       "cb_person_default_on_file     0\n",
       "cb_person_cred_hist_length    0\n",
       "dtype: int64"
      ]
     },
     "execution_count": 59,
     "metadata": {},
     "output_type": "execute_result"
    }
   ],
   "source": [
    "dados.isnull().sum()"
   ]
  },
  {
   "cell_type": "markdown",
   "id": "77500dfc",
   "metadata": {},
   "source": [
    "<h2><center>Análise das variáveis</center></h2>"
   ]
  },
  {
   "cell_type": "code",
   "execution_count": 60,
   "id": "f7791c82",
   "metadata": {},
   "outputs": [],
   "source": [
    "import seaborn as sns\n",
    "import matplotlib.pyplot as plt"
   ]
  },
  {
   "cell_type": "code",
   "execution_count": 61,
   "id": "0f0df893",
   "metadata": {},
   "outputs": [
    {
     "data": {
      "text/plain": [
       "(33364, 12)"
      ]
     },
     "execution_count": 61,
     "metadata": {},
     "output_type": "execute_result"
    }
   ],
   "source": [
    "dados.shape"
   ]
  },
  {
   "cell_type": "code",
   "execution_count": 62,
   "id": "3fbf7596",
   "metadata": {},
   "outputs": [
    {
     "data": {
      "text/html": [
       "<div>\n",
       "<style scoped>\n",
       "    .dataframe tbody tr th:only-of-type {\n",
       "        vertical-align: middle;\n",
       "    }\n",
       "\n",
       "    .dataframe tbody tr th {\n",
       "        vertical-align: top;\n",
       "    }\n",
       "\n",
       "    .dataframe thead th {\n",
       "        text-align: right;\n",
       "    }\n",
       "</style>\n",
       "<table border=\"1\" class=\"dataframe\">\n",
       "  <thead>\n",
       "    <tr style=\"text-align: right;\">\n",
       "      <th></th>\n",
       "      <th>person_age</th>\n",
       "      <th>person_income</th>\n",
       "      <th>person_emp_length</th>\n",
       "      <th>loan_amnt</th>\n",
       "      <th>loan_int_rate</th>\n",
       "      <th>loan_status</th>\n",
       "      <th>loan_percent_income</th>\n",
       "      <th>cb_person_cred_hist_length</th>\n",
       "    </tr>\n",
       "  </thead>\n",
       "  <tbody>\n",
       "    <tr>\n",
       "      <th>count</th>\n",
       "      <td>33364.000000</td>\n",
       "      <td>3.336400e+04</td>\n",
       "      <td>33364.000000</td>\n",
       "      <td>33364.000000</td>\n",
       "      <td>33364.000000</td>\n",
       "      <td>33364.000000</td>\n",
       "      <td>33364.000000</td>\n",
       "      <td>33364.000000</td>\n",
       "    </tr>\n",
       "    <tr>\n",
       "      <th>mean</th>\n",
       "      <td>27.560964</td>\n",
       "      <td>6.564629e+04</td>\n",
       "      <td>4.628372</td>\n",
       "      <td>9530.410023</td>\n",
       "      <td>9.892094</td>\n",
       "      <td>0.216431</td>\n",
       "      <td>0.169132</td>\n",
       "      <td>5.807038</td>\n",
       "    </tr>\n",
       "    <tr>\n",
       "      <th>std</th>\n",
       "      <td>6.699776</td>\n",
       "      <td>6.174371e+04</td>\n",
       "      <td>4.159764</td>\n",
       "      <td>6348.498108</td>\n",
       "      <td>4.524982</td>\n",
       "      <td>0.411817</td>\n",
       "      <td>0.107199</td>\n",
       "      <td>4.057827</td>\n",
       "    </tr>\n",
       "    <tr>\n",
       "      <th>min</th>\n",
       "      <td>0.000000</td>\n",
       "      <td>0.000000e+00</td>\n",
       "      <td>0.000000</td>\n",
       "      <td>0.000000</td>\n",
       "      <td>0.000000</td>\n",
       "      <td>0.000000</td>\n",
       "      <td>0.000000</td>\n",
       "      <td>2.000000</td>\n",
       "    </tr>\n",
       "    <tr>\n",
       "      <th>25%</th>\n",
       "      <td>23.000000</td>\n",
       "      <td>3.826800e+04</td>\n",
       "      <td>2.000000</td>\n",
       "      <td>5000.000000</td>\n",
       "      <td>7.490000</td>\n",
       "      <td>0.000000</td>\n",
       "      <td>0.090000</td>\n",
       "      <td>3.000000</td>\n",
       "    </tr>\n",
       "    <tr>\n",
       "      <th>50%</th>\n",
       "      <td>26.000000</td>\n",
       "      <td>5.500000e+04</td>\n",
       "      <td>4.000000</td>\n",
       "      <td>8000.000000</td>\n",
       "      <td>10.620000</td>\n",
       "      <td>0.000000</td>\n",
       "      <td>0.150000</td>\n",
       "      <td>4.000000</td>\n",
       "    </tr>\n",
       "    <tr>\n",
       "      <th>75%</th>\n",
       "      <td>30.000000</td>\n",
       "      <td>7.900000e+04</td>\n",
       "      <td>7.000000</td>\n",
       "      <td>12000.000000</td>\n",
       "      <td>13.110000</td>\n",
       "      <td>0.000000</td>\n",
       "      <td>0.230000</td>\n",
       "      <td>8.000000</td>\n",
       "    </tr>\n",
       "    <tr>\n",
       "      <th>max</th>\n",
       "      <td>144.000000</td>\n",
       "      <td>6.000000e+06</td>\n",
       "      <td>123.000000</td>\n",
       "      <td>35000.000000</td>\n",
       "      <td>23.220000</td>\n",
       "      <td>1.000000</td>\n",
       "      <td>0.830000</td>\n",
       "      <td>30.000000</td>\n",
       "    </tr>\n",
       "  </tbody>\n",
       "</table>\n",
       "</div>"
      ],
      "text/plain": [
       "         person_age  person_income  person_emp_length     loan_amnt  \\\n",
       "count  33364.000000   3.336400e+04       33364.000000  33364.000000   \n",
       "mean      27.560964   6.564629e+04           4.628372   9530.410023   \n",
       "std        6.699776   6.174371e+04           4.159764   6348.498108   \n",
       "min        0.000000   0.000000e+00           0.000000      0.000000   \n",
       "25%       23.000000   3.826800e+04           2.000000   5000.000000   \n",
       "50%       26.000000   5.500000e+04           4.000000   8000.000000   \n",
       "75%       30.000000   7.900000e+04           7.000000  12000.000000   \n",
       "max      144.000000   6.000000e+06         123.000000  35000.000000   \n",
       "\n",
       "       loan_int_rate   loan_status  loan_percent_income  \\\n",
       "count   33364.000000  33364.000000         33364.000000   \n",
       "mean        9.892094      0.216431             0.169132   \n",
       "std         4.524982      0.411817             0.107199   \n",
       "min         0.000000      0.000000             0.000000   \n",
       "25%         7.490000      0.000000             0.090000   \n",
       "50%        10.620000      0.000000             0.150000   \n",
       "75%        13.110000      0.000000             0.230000   \n",
       "max        23.220000      1.000000             0.830000   \n",
       "\n",
       "       cb_person_cred_hist_length  \n",
       "count                33364.000000  \n",
       "mean                     5.807038  \n",
       "std                      4.057827  \n",
       "min                      2.000000  \n",
       "25%                      3.000000  \n",
       "50%                      4.000000  \n",
       "75%                      8.000000  \n",
       "max                     30.000000  "
      ]
     },
     "execution_count": 62,
     "metadata": {},
     "output_type": "execute_result"
    }
   ],
   "source": [
    "dados.describe()"
   ]
  },
  {
   "cell_type": "markdown",
   "id": "b65c2c28",
   "metadata": {},
   "source": [
    "Observando a descrição dos dados, observa-se que há algumas informações incoerentes que devem ser melhor observadas."
   ]
  },
  {
   "cell_type": "markdown",
   "id": "6a2632e5",
   "metadata": {},
   "source": [
    "### person_age"
   ]
  },
  {
   "cell_type": "code",
   "execution_count": 63,
   "id": "e0f235a9",
   "metadata": {},
   "outputs": [
    {
     "data": {
      "text/plain": [
       "<AxesSubplot:xlabel='person_age'>"
      ]
     },
     "execution_count": 63,
     "metadata": {},
     "output_type": "execute_result"
    },
    {
     "data": {
      "image/png": "[encoded data removed]",
      "text/plain": [
       "<Figure size 800x400 with 1 Axes>"
      ]
     },
     "metadata": {},
     "output_type": "display_data"
    }
   ],
   "source": [
    "plt.figure(figsize=(8,4))\n",
    "sns.boxplot(data=dados, x='person_age')\n"
   ]
  },
  {
   "cell_type": "markdown",
   "id": "3dfac2ca",
   "metadata": {},
   "source": [
    "Pelo gráfico e por se tratar de concessão de empréstimos, idade menor que 18 anos e maior que 80 anos podem ser desconsideradas."
   ]
  },
  {
   "cell_type": "code",
   "execution_count": 64,
   "id": "54e57dde",
   "metadata": {},
   "outputs": [],
   "source": [
    "dados = dados[dados.person_age < 80]\n",
    "dados = dados[dados.person_age > 18]"
   ]
  },
  {
   "cell_type": "code",
   "execution_count": 65,
   "id": "ed150851",
   "metadata": {},
   "outputs": [
    {
     "data": {
      "text/plain": [
       "(33147, 12)"
      ]
     },
     "execution_count": 65,
     "metadata": {},
     "output_type": "execute_result"
    }
   ],
   "source": [
    "dados.shape"
   ]
  },
  {
   "cell_type": "markdown",
   "id": "d757cc05",
   "metadata": {},
   "source": [
    "### person_income"
   ]
  },
  {
   "cell_type": "code",
   "execution_count": 66,
   "id": "6eeefebf",
   "metadata": {},
   "outputs": [
    {
     "data": {
      "text/plain": [
       "<AxesSubplot:xlabel='person_income'>"
      ]
     },
     "execution_count": 66,
     "metadata": {},
     "output_type": "execute_result"
    },
    {
     "data": {
      "image/png": "[encoded data removed]",
      "text/plain": [
       "<Figure size 800x400 with 1 Axes>"
      ]
     },
     "metadata": {},
     "output_type": "display_data"
    }
   ],
   "source": [
    "plt.figure(figsize=(8,4))\n",
    "sns.boxplot(data=dados, x='person_income')\n"
   ]
  },
  {
   "cell_type": "code",
   "execution_count": 67,
   "id": "41454dc9",
   "metadata": {},
   "outputs": [
    {
     "data": {
      "text/plain": [
       "8"
      ]
     },
     "execution_count": 67,
     "metadata": {},
     "output_type": "execute_result"
    }
   ],
   "source": [
    "(dados.person_income > 1000000).sum()"
   ]
  },
  {
   "cell_type": "markdown",
   "id": "6b92b260",
   "metadata": {},
   "source": [
    "Há oito usuários com salário anual maior que $1000000,00, que pelo gráfico acima indicam ser outliers. Por ser uma amostra pequena em relação ao total de dados, opta-se por retirá-los."
   ]
  },
  {
   "cell_type": "code",
   "execution_count": 68,
   "id": "42e16381",
   "metadata": {},
   "outputs": [],
   "source": [
    "dados = dados[dados.person_income < 1000000]"
   ]
  },
  {
   "cell_type": "code",
   "execution_count": 69,
   "id": "039aa3d3",
   "metadata": {},
   "outputs": [
    {
     "data": {
      "text/plain": [
       "(33139, 12)"
      ]
     },
     "execution_count": 69,
     "metadata": {},
     "output_type": "execute_result"
    }
   ],
   "source": [
    "dados.shape"
   ]
  },
  {
   "cell_type": "markdown",
   "id": "498c9daa",
   "metadata": {},
   "source": [
    "### person_emp_length"
   ]
  },
  {
   "cell_type": "code",
   "execution_count": 70,
   "id": "f9f6d0bb",
   "metadata": {},
   "outputs": [
    {
     "data": {
      "text/plain": [
       "<AxesSubplot:xlabel='person_emp_length'>"
      ]
     },
     "execution_count": 70,
     "metadata": {},
     "output_type": "execute_result"
    },
    {
     "data": {
      "image/png": "[encoded data removed]",
      "text/plain": [
       "<Figure size 800x400 with 1 Axes>"
      ]
     },
     "metadata": {},
     "output_type": "display_data"
    }
   ],
   "source": [
    "plt.figure(figsize=(8,4))\n",
    "sns.boxplot(data=dados, x='person_emp_length')"
   ]
  },
  {
   "cell_type": "markdown",
   "id": "437e160f",
   "metadata": {},
   "source": [
    "Pelo gráfico usuários com tempo de trabalho superior a 40 anos podem ser considerados outliers. "
   ]
  },
  {
   "cell_type": "code",
   "execution_count": 71,
   "id": "58615050",
   "metadata": {},
   "outputs": [
    {
     "data": {
      "text/plain": [
       "(33136, 12)"
      ]
     },
     "execution_count": 71,
     "metadata": {},
     "output_type": "execute_result"
    }
   ],
   "source": [
    "dados = dados[dados.person_emp_length < 40]\n",
    "dados.shape"
   ]
  },
  {
   "cell_type": "markdown",
   "id": "4bb89e5d",
   "metadata": {},
   "source": [
    "### loan_amnt"
   ]
  },
  {
   "cell_type": "code",
   "execution_count": 72,
   "id": "a46942f8",
   "metadata": {},
   "outputs": [
    {
     "data": {
      "text/plain": [
       "<AxesSubplot:xlabel='loan_amnt'>"
      ]
     },
     "execution_count": 72,
     "metadata": {},
     "output_type": "execute_result"
    },
    {
     "data": {
      "image/png": "[encoded data removed]",
      "text/plain": [
       "<Figure size 800x400 with 1 Axes>"
      ]
     },
     "metadata": {},
     "output_type": "display_data"
    }
   ],
   "source": [
    "plt.figure(figsize=(8,4))\n",
    "sns.boxplot(data=dados, x='loan_amnt')"
   ]
  },
  {
   "cell_type": "markdown",
   "id": "410657d1",
   "metadata": {},
   "source": [
    "Empréstimo com valor nulo deve ser desconsiderado."
   ]
  },
  {
   "cell_type": "code",
   "execution_count": 73,
   "id": "b7a8ac0a",
   "metadata": {},
   "outputs": [
    {
     "data": {
      "text/plain": [
       "(32966, 12)"
      ]
     },
     "execution_count": 73,
     "metadata": {},
     "output_type": "execute_result"
    }
   ],
   "source": [
    "dados = dados[dados.loan_amnt != 0]\n",
    "dados.shape"
   ]
  },
  {
   "cell_type": "markdown",
   "id": "60a85a80",
   "metadata": {},
   "source": [
    "### loan_int_rate"
   ]
  },
  {
   "cell_type": "code",
   "execution_count": 74,
   "id": "7f2d98c0",
   "metadata": {},
   "outputs": [
    {
     "data": {
      "text/plain": [
       "<AxesSubplot:xlabel='loan_int_rate'>"
      ]
     },
     "execution_count": 74,
     "metadata": {},
     "output_type": "execute_result"
    },
    {
     "data": {
      "image/png": "[encoded data removed]",
      "text/plain": [
       "<Figure size 800x400 with 1 Axes>"
      ]
     },
     "metadata": {},
     "output_type": "display_data"
    }
   ],
   "source": [
    "plt.figure(figsize=(8,4))\n",
    "sns.boxplot(data=dados, x='loan_int_rate')"
   ]
  },
  {
   "cell_type": "markdown",
   "id": "1b6b99cd",
   "metadata": {},
   "source": [
    "Empréstimos a juros 0 também devem ser desconsiderados."
   ]
  },
  {
   "cell_type": "code",
   "execution_count": 75,
   "id": "668e5f2d",
   "metadata": {},
   "outputs": [
    {
     "data": {
      "text/plain": [
       "(29673, 12)"
      ]
     },
     "execution_count": 75,
     "metadata": {},
     "output_type": "execute_result"
    }
   ],
   "source": [
    "dados = dados[dados.loan_int_rate != 0]\n",
    "dados.shape"
   ]
  },
  {
   "cell_type": "markdown",
   "id": "5048c46b",
   "metadata": {},
   "source": [
    "### loan_percent_income"
   ]
  },
  {
   "cell_type": "markdown",
   "id": "830bbf1c",
   "metadata": {},
   "source": [
    "Essa variável representa a razão entre o valor total do empréstimo e o salário anual do usuário, valores que já estão presente de forma indivudial na base de dados. Portanto podemos desconsiderar essa coluna da tabela."
   ]
  },
  {
   "cell_type": "code",
   "execution_count": 89,
   "id": "fab46faa",
   "metadata": {},
   "outputs": [],
   "source": [
    "dados.drop('loan_percent_income', axis=1, inplace=True, errors='ignore')"
   ]
  },
  {
   "cell_type": "code",
   "execution_count": 77,
   "id": "748e06c3",
   "metadata": {},
   "outputs": [
    {
     "data": {
      "text/plain": [
       "(29673, 11)"
      ]
     },
     "execution_count": 77,
     "metadata": {},
     "output_type": "execute_result"
    }
   ],
   "source": [
    "dados.shape"
   ]
  },
  {
   "cell_type": "markdown",
   "id": "da658839",
   "metadata": {},
   "source": [
    "Após a limpeza dos dados, o dataframe passou de 34501 para 29673 linhas, uma redução de 14% em relação à base de dados original. Apesar de ser uma redução significativa, ainda há uma quantidade suficiente para análise e geração de modelos preditivos."
   ]
  },
  {
   "cell_type": "markdown",
   "id": "c11993e6",
   "metadata": {},
   "source": [
    "### cb_person_default_on_file"
   ]
  },
  {
   "cell_type": "markdown",
   "id": "a5ec16bf",
   "metadata": {},
   "source": [
    "Conversão dos valores de 'string' para 'boolean'."
   ]
  },
  {
   "cell_type": "code",
   "execution_count": 84,
   "id": "6d3e251a",
   "metadata": {},
   "outputs": [],
   "source": [
    "dicionario = {'N': 0,'Y': 1}\n",
    "dados.replace(dicionario, inplace=True)"
   ]
  },
  {
   "cell_type": "code",
   "execution_count": 85,
   "id": "8bb7acc9",
   "metadata": {},
   "outputs": [
    {
     "data": {
      "text/html": [
       "<div>\n",
       "<style scoped>\n",
       "    .dataframe tbody tr th:only-of-type {\n",
       "        vertical-align: middle;\n",
       "    }\n",
       "\n",
       "    .dataframe tbody tr th {\n",
       "        vertical-align: top;\n",
       "    }\n",
       "\n",
       "    .dataframe thead th {\n",
       "        text-align: right;\n",
       "    }\n",
       "</style>\n",
       "<table border=\"1\" class=\"dataframe\">\n",
       "  <thead>\n",
       "    <tr style=\"text-align: right;\">\n",
       "      <th></th>\n",
       "      <th>person_age</th>\n",
       "      <th>person_income</th>\n",
       "      <th>person_home_ownership</th>\n",
       "      <th>person_emp_length</th>\n",
       "      <th>loan_intent</th>\n",
       "      <th>loan_grade</th>\n",
       "      <th>loan_amnt</th>\n",
       "      <th>loan_int_rate</th>\n",
       "      <th>loan_status</th>\n",
       "      <th>cb_person_default_on_file</th>\n",
       "      <th>cb_person_cred_hist_length</th>\n",
       "    </tr>\n",
       "  </thead>\n",
       "  <tbody>\n",
       "    <tr>\n",
       "      <th>0</th>\n",
       "      <td>27</td>\n",
       "      <td>68000</td>\n",
       "      <td>Rent</td>\n",
       "      <td>4.0</td>\n",
       "      <td>Homeimprovement</td>\n",
       "      <td>A</td>\n",
       "      <td>8700</td>\n",
       "      <td>7.88</td>\n",
       "      <td>0</td>\n",
       "      <td>0</td>\n",
       "      <td>5</td>\n",
       "    </tr>\n",
       "    <tr>\n",
       "      <th>1</th>\n",
       "      <td>24</td>\n",
       "      <td>12600</td>\n",
       "      <td>Rent</td>\n",
       "      <td>2.0</td>\n",
       "      <td>Venture</td>\n",
       "      <td>C</td>\n",
       "      <td>2500</td>\n",
       "      <td>13.11</td>\n",
       "      <td>1</td>\n",
       "      <td>1</td>\n",
       "      <td>2</td>\n",
       "    </tr>\n",
       "    <tr>\n",
       "      <th>2</th>\n",
       "      <td>30</td>\n",
       "      <td>100000</td>\n",
       "      <td>Rent</td>\n",
       "      <td>13.0</td>\n",
       "      <td>Debtconsolidation</td>\n",
       "      <td>A</td>\n",
       "      <td>12000</td>\n",
       "      <td>7.88</td>\n",
       "      <td>0</td>\n",
       "      <td>0</td>\n",
       "      <td>9</td>\n",
       "    </tr>\n",
       "    <tr>\n",
       "      <th>4</th>\n",
       "      <td>30</td>\n",
       "      <td>110400</td>\n",
       "      <td>Rent</td>\n",
       "      <td>1.0</td>\n",
       "      <td>Venture</td>\n",
       "      <td>D</td>\n",
       "      <td>14000</td>\n",
       "      <td>16.89</td>\n",
       "      <td>1</td>\n",
       "      <td>0</td>\n",
       "      <td>6</td>\n",
       "    </tr>\n",
       "    <tr>\n",
       "      <th>5</th>\n",
       "      <td>31</td>\n",
       "      <td>26988</td>\n",
       "      <td>Rent</td>\n",
       "      <td>0.0</td>\n",
       "      <td>Venture</td>\n",
       "      <td>A</td>\n",
       "      <td>5800</td>\n",
       "      <td>6.62</td>\n",
       "      <td>0</td>\n",
       "      <td>0</td>\n",
       "      <td>9</td>\n",
       "    </tr>\n",
       "  </tbody>\n",
       "</table>\n",
       "</div>"
      ],
      "text/plain": [
       "   person_age  person_income person_home_ownership  person_emp_length  \\\n",
       "0          27          68000                  Rent                4.0   \n",
       "1          24          12600                  Rent                2.0   \n",
       "2          30         100000                  Rent               13.0   \n",
       "4          30         110400                  Rent                1.0   \n",
       "5          31          26988                  Rent                0.0   \n",
       "\n",
       "         loan_intent loan_grade  loan_amnt  loan_int_rate  loan_status  \\\n",
       "0    Homeimprovement          A       8700           7.88            0   \n",
       "1            Venture          C       2500          13.11            1   \n",
       "2  Debtconsolidation          A      12000           7.88            0   \n",
       "4            Venture          D      14000          16.89            1   \n",
       "5            Venture          A       5800           6.62            0   \n",
       "\n",
       "   cb_person_default_on_file  cb_person_cred_hist_length  \n",
       "0                          0                           5  \n",
       "1                          1                           2  \n",
       "2                          0                           9  \n",
       "4                          0                           6  \n",
       "5                          0                           9  "
      ]
     },
     "execution_count": 85,
     "metadata": {},
     "output_type": "execute_result"
    }
   ],
   "source": [
    "dados.head()"
   ]
  },
  {
   "cell_type": "markdown",
   "id": "73639705",
   "metadata": {},
   "source": [
    "<h2><center> Analise de correlação das variáveis </center></h2>"
   ]
  },
  {
   "cell_type": "code",
   "execution_count": 86,
   "id": "c6b31956",
   "metadata": {},
   "outputs": [
    {
     "data": {
      "text/html": [
       "<div>\n",
       "<style scoped>\n",
       "    .dataframe tbody tr th:only-of-type {\n",
       "        vertical-align: middle;\n",
       "    }\n",
       "\n",
       "    .dataframe tbody tr th {\n",
       "        vertical-align: top;\n",
       "    }\n",
       "\n",
       "    .dataframe thead th {\n",
       "        text-align: right;\n",
       "    }\n",
       "</style>\n",
       "<table border=\"1\" class=\"dataframe\">\n",
       "  <thead>\n",
       "    <tr style=\"text-align: right;\">\n",
       "      <th></th>\n",
       "      <th>person_age</th>\n",
       "      <th>person_income</th>\n",
       "      <th>person_emp_length</th>\n",
       "      <th>loan_amnt</th>\n",
       "      <th>loan_int_rate</th>\n",
       "      <th>loan_status</th>\n",
       "      <th>cb_person_default_on_file</th>\n",
       "      <th>cb_person_cred_hist_length</th>\n",
       "    </tr>\n",
       "  </thead>\n",
       "  <tbody>\n",
       "    <tr>\n",
       "      <th>person_age</th>\n",
       "      <td>1.000000</td>\n",
       "      <td>0.135730</td>\n",
       "      <td>0.169661</td>\n",
       "      <td>0.055421</td>\n",
       "      <td>0.013294</td>\n",
       "      <td>-0.020546</td>\n",
       "      <td>0.010346</td>\n",
       "      <td>0.869524</td>\n",
       "    </tr>\n",
       "    <tr>\n",
       "      <th>person_income</th>\n",
       "      <td>0.135730</td>\n",
       "      <td>1.000000</td>\n",
       "      <td>0.181863</td>\n",
       "      <td>0.355467</td>\n",
       "      <td>0.000990</td>\n",
       "      <td>-0.180830</td>\n",
       "      <td>-0.002319</td>\n",
       "      <td>0.115960</td>\n",
       "    </tr>\n",
       "    <tr>\n",
       "      <th>person_emp_length</th>\n",
       "      <td>0.169661</td>\n",
       "      <td>0.181863</td>\n",
       "      <td>1.000000</td>\n",
       "      <td>0.116742</td>\n",
       "      <td>-0.044629</td>\n",
       "      <td>-0.089537</td>\n",
       "      <td>-0.025035</td>\n",
       "      <td>0.146307</td>\n",
       "    </tr>\n",
       "    <tr>\n",
       "      <th>loan_amnt</th>\n",
       "      <td>0.055421</td>\n",
       "      <td>0.355467</td>\n",
       "      <td>0.116742</td>\n",
       "      <td>1.000000</td>\n",
       "      <td>0.147144</td>\n",
       "      <td>0.106224</td>\n",
       "      <td>0.040244</td>\n",
       "      <td>0.045433</td>\n",
       "    </tr>\n",
       "    <tr>\n",
       "      <th>loan_int_rate</th>\n",
       "      <td>0.013294</td>\n",
       "      <td>0.000990</td>\n",
       "      <td>-0.044629</td>\n",
       "      <td>0.147144</td>\n",
       "      <td>1.000000</td>\n",
       "      <td>0.334218</td>\n",
       "      <td>0.501106</td>\n",
       "      <td>0.016180</td>\n",
       "    </tr>\n",
       "    <tr>\n",
       "      <th>loan_status</th>\n",
       "      <td>-0.020546</td>\n",
       "      <td>-0.180830</td>\n",
       "      <td>-0.089537</td>\n",
       "      <td>0.106224</td>\n",
       "      <td>0.334218</td>\n",
       "      <td>1.000000</td>\n",
       "      <td>0.179234</td>\n",
       "      <td>-0.013630</td>\n",
       "    </tr>\n",
       "    <tr>\n",
       "      <th>cb_person_default_on_file</th>\n",
       "      <td>0.010346</td>\n",
       "      <td>-0.002319</td>\n",
       "      <td>-0.025035</td>\n",
       "      <td>0.040244</td>\n",
       "      <td>0.501106</td>\n",
       "      <td>0.179234</td>\n",
       "      <td>1.000000</td>\n",
       "      <td>0.008878</td>\n",
       "    </tr>\n",
       "    <tr>\n",
       "      <th>cb_person_cred_hist_length</th>\n",
       "      <td>0.869524</td>\n",
       "      <td>0.115960</td>\n",
       "      <td>0.146307</td>\n",
       "      <td>0.045433</td>\n",
       "      <td>0.016180</td>\n",
       "      <td>-0.013630</td>\n",
       "      <td>0.008878</td>\n",
       "      <td>1.000000</td>\n",
       "    </tr>\n",
       "  </tbody>\n",
       "</table>\n",
       "</div>"
      ],
      "text/plain": [
       "                            person_age  person_income  person_emp_length  \\\n",
       "person_age                    1.000000       0.135730           0.169661   \n",
       "person_income                 0.135730       1.000000           0.181863   \n",
       "person_emp_length             0.169661       0.181863           1.000000   \n",
       "loan_amnt                     0.055421       0.355467           0.116742   \n",
       "loan_int_rate                 0.013294       0.000990          -0.044629   \n",
       "loan_status                  -0.020546      -0.180830          -0.089537   \n",
       "cb_person_default_on_file     0.010346      -0.002319          -0.025035   \n",
       "cb_person_cred_hist_length    0.869524       0.115960           0.146307   \n",
       "\n",
       "                            loan_amnt  loan_int_rate  loan_status  \\\n",
       "person_age                   0.055421       0.013294    -0.020546   \n",
       "person_income                0.355467       0.000990    -0.180830   \n",
       "person_emp_length            0.116742      -0.044629    -0.089537   \n",
       "loan_amnt                    1.000000       0.147144     0.106224   \n",
       "loan_int_rate                0.147144       1.000000     0.334218   \n",
       "loan_status                  0.106224       0.334218     1.000000   \n",
       "cb_person_default_on_file    0.040244       0.501106     0.179234   \n",
       "cb_person_cred_hist_length   0.045433       0.016180    -0.013630   \n",
       "\n",
       "                            cb_person_default_on_file  \\\n",
       "person_age                                   0.010346   \n",
       "person_income                               -0.002319   \n",
       "person_emp_length                           -0.025035   \n",
       "loan_amnt                                    0.040244   \n",
       "loan_int_rate                                0.501106   \n",
       "loan_status                                  0.179234   \n",
       "cb_person_default_on_file                    1.000000   \n",
       "cb_person_cred_hist_length                   0.008878   \n",
       "\n",
       "                            cb_person_cred_hist_length  \n",
       "person_age                                    0.869524  \n",
       "person_income                                 0.115960  \n",
       "person_emp_length                             0.146307  \n",
       "loan_amnt                                     0.045433  \n",
       "loan_int_rate                                 0.016180  \n",
       "loan_status                                  -0.013630  \n",
       "cb_person_default_on_file                     0.008878  \n",
       "cb_person_cred_hist_length                    1.000000  "
      ]
     },
     "execution_count": 86,
     "metadata": {},
     "output_type": "execute_result"
    }
   ],
   "source": [
    "dados.corr()"
   ]
  },
  {
   "cell_type": "code",
   "execution_count": 88,
   "id": "baab884c",
   "metadata": {},
   "outputs": [
    {
     "data": {
      "text/plain": [
       "<AxesSubplot:>"
      ]
     },
     "execution_count": 88,
     "metadata": {},
     "output_type": "execute_result"
    },
    {
     "data": {
      "image/png": "[encoded data removed]",
      "text/plain": [
       "<Figure size 640x480 with 2 Axes>"
      ]
     },
     "metadata": {},
     "output_type": "display_data"
    }
   ],
   "source": [
    "sns.heatmap(dados.corr(), cmap='ocean_r')"
   ]
  },
  {
   "cell_type": "markdown",
   "id": "f22ede68",
   "metadata": {},
   "source": [
    "Em relação à variável alvo 'loan_status', nota-se uma maior correlação positiva com a 'loan_int_rate' (0.33), com a variável 'cb_person_default_on_file' (0.18), 'loan_amnt' (0.1) e uma correlação negativa com 'person_income' (-0.18). Logo, podemos sugerir que :\n",
    "- Quanto maior a taxa de juros, maior a probabilidade de inadimplência.\n",
    "- Quando o usuário já está em situação de inadimplência, a probabilidade de inadimplência é maior.\n",
    "- Quanto maior o valor total do empréstimo, maior a probabilidade de inadimplência.\n",
    "- Quanto menor o salário anual do usuário, maior a probabilidade de inadimplência."
   ]
  },
  {
   "cell_type": "markdown",
   "id": "5df19640",
   "metadata": {},
   "source": [
    "<h2><center>Exportando os dados</center></h2>"
   ]
  },
  {
   "cell_type": "code",
   "execution_count": 98,
   "id": "fc3872d8",
   "metadata": {},
   "outputs": [],
   "source": [
    "dados.to_csv('../SILVER/dados_ml.csv')"
   ]
  },
  {
   "cell_type": "code",
   "execution_count": null,
   "id": "54996518",
   "metadata": {},
   "outputs": [],
   "source": []
  }
 ],
 "metadata": {
  "kernelspec": {
   "display_name": "Python 3 (ipykernel)",
   "language": "python",
   "name": "python3"
  },
  "language_info": {
   "codemirror_mode": {
    "name": "ipython",
    "version": 3
   },
   "file_extension": ".py",
   "mimetype": "text/x-python",
   "name": "python",
   "nbconvert_exporter": "python",
   "pygments_lexer": "ipython3",
   "version": "3.8.1"
  }
 },
 "nbformat": 4,
 "nbformat_minor": 5
}
